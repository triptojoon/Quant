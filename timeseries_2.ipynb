{
  "nbformat": 4,
  "nbformat_minor": 0,
  "metadata": {
    "colab": {
      "name": "timeseries#2.ipynb",
      "provenance": [],
      "authorship_tag": "ABX9TyO5KnYsIpHTZZqiJPk4tEKa",
      "include_colab_link": true
    },
    "kernelspec": {
      "name": "python3",
      "display_name": "Python 3"
    }
  },
  "cells": [
    {
      "cell_type": "markdown",
      "metadata": {
        "id": "view-in-github",
        "colab_type": "text"
      },
      "source": [
        "<a href=\"https://colab.research.google.com/github/triptojoon/Quant/blob/master/timeseries_2.ipynb\" target=\"_parent\"><img src=\"https://colab.research.google.com/assets/colab-badge.svg\" alt=\"Open In Colab\"/></a>"
      ]
    },
    {
      "cell_type": "code",
      "metadata": {
        "id": "8di4yzfGLrhK"
      },
      "source": [
        "import numpy as np\n",
        "from vega_datasets import data\n",
        "from matplotlib import pyplot as plt\n",
        "import pandas as pd"
      ],
      "execution_count": null,
      "outputs": []
    },
    {
      "cell_type": "code",
      "metadata": {
        "id": "_hsV_hDPPFiv",
        "outputId": "ca714422-bc2c-4208-d9ca-fb23a1791180",
        "colab": {
          "base_uri": "https://localhost:8080/"
        }
      },
      "source": [
        "data.list_datasets()"
      ],
      "execution_count": null,
      "outputs": [
        {
          "output_type": "execute_result",
          "data": {
            "text/plain": [
              "['7zip',\n",
              " 'airports',\n",
              " 'annual-precip',\n",
              " 'anscombe',\n",
              " 'barley',\n",
              " 'birdstrikes',\n",
              " 'budget',\n",
              " 'budgets',\n",
              " 'burtin',\n",
              " 'cars',\n",
              " 'climate',\n",
              " 'co2-concentration',\n",
              " 'countries',\n",
              " 'crimea',\n",
              " 'disasters',\n",
              " 'driving',\n",
              " 'earthquakes',\n",
              " 'ffox',\n",
              " 'flare',\n",
              " 'flare-dependencies',\n",
              " 'flights-10k',\n",
              " 'flights-200k',\n",
              " 'flights-20k',\n",
              " 'flights-2k',\n",
              " 'flights-3m',\n",
              " 'flights-5k',\n",
              " 'flights-airport',\n",
              " 'gapminder',\n",
              " 'gapminder-health-income',\n",
              " 'gimp',\n",
              " 'github',\n",
              " 'graticule',\n",
              " 'income',\n",
              " 'iowa-electricity',\n",
              " 'iris',\n",
              " 'jobs',\n",
              " 'la-riots',\n",
              " 'londonBoroughs',\n",
              " 'londonCentroids',\n",
              " 'londonTubeLines',\n",
              " 'lookup_groups',\n",
              " 'lookup_people',\n",
              " 'miserables',\n",
              " 'monarchs',\n",
              " 'movies',\n",
              " 'normal-2d',\n",
              " 'obesity',\n",
              " 'ohlc',\n",
              " 'points',\n",
              " 'population',\n",
              " 'population_engineers_hurricanes',\n",
              " 'seattle-temps',\n",
              " 'seattle-weather',\n",
              " 'sf-temps',\n",
              " 'sp500',\n",
              " 'stocks',\n",
              " 'udistrict',\n",
              " 'unemployment',\n",
              " 'unemployment-across-industries',\n",
              " 'uniform-2d',\n",
              " 'us-10m',\n",
              " 'us-employment',\n",
              " 'us-state-capitals',\n",
              " 'volcano',\n",
              " 'weather',\n",
              " 'weball26',\n",
              " 'wheat',\n",
              " 'windvectors',\n",
              " 'world-110m',\n",
              " 'zipcodes']"
            ]
          },
          "metadata": {
            "tags": []
          },
          "execution_count": 11
        }
      ]
    },
    {
      "cell_type": "code",
      "metadata": {
        "id": "aDD62M0LTiaz"
      },
      "source": [
        "df = data.cars(use_local = True)"
      ],
      "execution_count": null,
      "outputs": []
    },
    {
      "cell_type": "code",
      "metadata": {
        "id": "pq8934kdTtWa",
        "outputId": "2ab5f8e4-865a-4bdb-b2df-276dc13e929d",
        "colab": {
          "base_uri": "https://localhost:8080/",
          "height": 359
        }
      },
      "source": [
        "df.head(10)"
      ],
      "execution_count": null,
      "outputs": [
        {
          "output_type": "execute_result",
          "data": {
            "text/html": [
              "<div>\n",
              "<style scoped>\n",
              "    .dataframe tbody tr th:only-of-type {\n",
              "        vertical-align: middle;\n",
              "    }\n",
              "\n",
              "    .dataframe tbody tr th {\n",
              "        vertical-align: top;\n",
              "    }\n",
              "\n",
              "    .dataframe thead th {\n",
              "        text-align: right;\n",
              "    }\n",
              "</style>\n",
              "<table border=\"1\" class=\"dataframe\">\n",
              "  <thead>\n",
              "    <tr style=\"text-align: right;\">\n",
              "      <th></th>\n",
              "      <th>Name</th>\n",
              "      <th>Miles_per_Gallon</th>\n",
              "      <th>Cylinders</th>\n",
              "      <th>Displacement</th>\n",
              "      <th>Horsepower</th>\n",
              "      <th>Weight_in_lbs</th>\n",
              "      <th>Acceleration</th>\n",
              "      <th>Year</th>\n",
              "      <th>Origin</th>\n",
              "    </tr>\n",
              "  </thead>\n",
              "  <tbody>\n",
              "    <tr>\n",
              "      <th>0</th>\n",
              "      <td>chevrolet chevelle malibu</td>\n",
              "      <td>18.0</td>\n",
              "      <td>8</td>\n",
              "      <td>307.0</td>\n",
              "      <td>130.0</td>\n",
              "      <td>3504</td>\n",
              "      <td>12.0</td>\n",
              "      <td>1970-01-01</td>\n",
              "      <td>USA</td>\n",
              "    </tr>\n",
              "    <tr>\n",
              "      <th>1</th>\n",
              "      <td>buick skylark 320</td>\n",
              "      <td>15.0</td>\n",
              "      <td>8</td>\n",
              "      <td>350.0</td>\n",
              "      <td>165.0</td>\n",
              "      <td>3693</td>\n",
              "      <td>11.5</td>\n",
              "      <td>1970-01-01</td>\n",
              "      <td>USA</td>\n",
              "    </tr>\n",
              "    <tr>\n",
              "      <th>2</th>\n",
              "      <td>plymouth satellite</td>\n",
              "      <td>18.0</td>\n",
              "      <td>8</td>\n",
              "      <td>318.0</td>\n",
              "      <td>150.0</td>\n",
              "      <td>3436</td>\n",
              "      <td>11.0</td>\n",
              "      <td>1970-01-01</td>\n",
              "      <td>USA</td>\n",
              "    </tr>\n",
              "    <tr>\n",
              "      <th>3</th>\n",
              "      <td>amc rebel sst</td>\n",
              "      <td>16.0</td>\n",
              "      <td>8</td>\n",
              "      <td>304.0</td>\n",
              "      <td>150.0</td>\n",
              "      <td>3433</td>\n",
              "      <td>12.0</td>\n",
              "      <td>1970-01-01</td>\n",
              "      <td>USA</td>\n",
              "    </tr>\n",
              "    <tr>\n",
              "      <th>4</th>\n",
              "      <td>ford torino</td>\n",
              "      <td>17.0</td>\n",
              "      <td>8</td>\n",
              "      <td>302.0</td>\n",
              "      <td>140.0</td>\n",
              "      <td>3449</td>\n",
              "      <td>10.5</td>\n",
              "      <td>1970-01-01</td>\n",
              "      <td>USA</td>\n",
              "    </tr>\n",
              "    <tr>\n",
              "      <th>5</th>\n",
              "      <td>ford galaxie 500</td>\n",
              "      <td>15.0</td>\n",
              "      <td>8</td>\n",
              "      <td>429.0</td>\n",
              "      <td>198.0</td>\n",
              "      <td>4341</td>\n",
              "      <td>10.0</td>\n",
              "      <td>1970-01-01</td>\n",
              "      <td>USA</td>\n",
              "    </tr>\n",
              "    <tr>\n",
              "      <th>6</th>\n",
              "      <td>chevrolet impala</td>\n",
              "      <td>14.0</td>\n",
              "      <td>8</td>\n",
              "      <td>454.0</td>\n",
              "      <td>220.0</td>\n",
              "      <td>4354</td>\n",
              "      <td>9.0</td>\n",
              "      <td>1970-01-01</td>\n",
              "      <td>USA</td>\n",
              "    </tr>\n",
              "    <tr>\n",
              "      <th>7</th>\n",
              "      <td>plymouth fury iii</td>\n",
              "      <td>14.0</td>\n",
              "      <td>8</td>\n",
              "      <td>440.0</td>\n",
              "      <td>215.0</td>\n",
              "      <td>4312</td>\n",
              "      <td>8.5</td>\n",
              "      <td>1970-01-01</td>\n",
              "      <td>USA</td>\n",
              "    </tr>\n",
              "    <tr>\n",
              "      <th>8</th>\n",
              "      <td>pontiac catalina</td>\n",
              "      <td>14.0</td>\n",
              "      <td>8</td>\n",
              "      <td>455.0</td>\n",
              "      <td>225.0</td>\n",
              "      <td>4425</td>\n",
              "      <td>10.0</td>\n",
              "      <td>1970-01-01</td>\n",
              "      <td>USA</td>\n",
              "    </tr>\n",
              "    <tr>\n",
              "      <th>9</th>\n",
              "      <td>amc ambassador dpl</td>\n",
              "      <td>15.0</td>\n",
              "      <td>8</td>\n",
              "      <td>390.0</td>\n",
              "      <td>190.0</td>\n",
              "      <td>3850</td>\n",
              "      <td>8.5</td>\n",
              "      <td>1970-01-01</td>\n",
              "      <td>USA</td>\n",
              "    </tr>\n",
              "  </tbody>\n",
              "</table>\n",
              "</div>"
            ],
            "text/plain": [
              "                        Name  Miles_per_Gallon  ...       Year  Origin\n",
              "0  chevrolet chevelle malibu              18.0  ... 1970-01-01     USA\n",
              "1          buick skylark 320              15.0  ... 1970-01-01     USA\n",
              "2         plymouth satellite              18.0  ... 1970-01-01     USA\n",
              "3              amc rebel sst              16.0  ... 1970-01-01     USA\n",
              "4                ford torino              17.0  ... 1970-01-01     USA\n",
              "5           ford galaxie 500              15.0  ... 1970-01-01     USA\n",
              "6           chevrolet impala              14.0  ... 1970-01-01     USA\n",
              "7          plymouth fury iii              14.0  ... 1970-01-01     USA\n",
              "8           pontiac catalina              14.0  ... 1970-01-01     USA\n",
              "9         amc ambassador dpl              15.0  ... 1970-01-01     USA\n",
              "\n",
              "[10 rows x 9 columns]"
            ]
          },
          "metadata": {
            "tags": []
          },
          "execution_count": 18
        }
      ]
    },
    {
      "cell_type": "code",
      "metadata": {
        "id": "AmA4HeK0U5QB",
        "outputId": "727d1796-0963-4310-be40-81799df6f4e5",
        "colab": {
          "base_uri": "https://localhost:8080/"
        }
      },
      "source": [
        "df.Name"
      ],
      "execution_count": null,
      "outputs": [
        {
          "output_type": "execute_result",
          "data": {
            "text/plain": [
              "0      chevrolet chevelle malibu\n",
              "1              buick skylark 320\n",
              "2             plymouth satellite\n",
              "3                  amc rebel sst\n",
              "4                    ford torino\n",
              "                 ...            \n",
              "401              ford mustang gl\n",
              "402                    vw pickup\n",
              "403                dodge rampage\n",
              "404                  ford ranger\n",
              "405                   chevy s-10\n",
              "Name: Name, Length: 406, dtype: object"
            ]
          },
          "metadata": {
            "tags": []
          },
          "execution_count": 19
        }
      ]
    },
    {
      "cell_type": "code",
      "metadata": {
        "id": "fM11G9y1Vr-8",
        "outputId": "55238142-692c-4fef-e6b1-911b4517fc5e",
        "colab": {
          "base_uri": "https://localhost:8080/"
        }
      },
      "source": [
        "df.loc[:,'Name']"
      ],
      "execution_count": null,
      "outputs": [
        {
          "output_type": "execute_result",
          "data": {
            "text/plain": [
              "0      chevrolet chevelle malibu\n",
              "1              buick skylark 320\n",
              "2             plymouth satellite\n",
              "3                  amc rebel sst\n",
              "4                    ford torino\n",
              "                 ...            \n",
              "401              ford mustang gl\n",
              "402                    vw pickup\n",
              "403                dodge rampage\n",
              "404                  ford ranger\n",
              "405                   chevy s-10\n",
              "Name: Name, Length: 406, dtype: object"
            ]
          },
          "metadata": {
            "tags": []
          },
          "execution_count": 20
        }
      ]
    },
    {
      "cell_type": "code",
      "metadata": {
        "id": "6cOWPmp3V0Xd",
        "outputId": "0055a31d-1993-4a44-d1f3-461740762368",
        "colab": {
          "base_uri": "https://localhost:8080/",
          "height": 297
        }
      },
      "source": [
        "df.describe()"
      ],
      "execution_count": null,
      "outputs": [
        {
          "output_type": "execute_result",
          "data": {
            "text/html": [
              "<div>\n",
              "<style scoped>\n",
              "    .dataframe tbody tr th:only-of-type {\n",
              "        vertical-align: middle;\n",
              "    }\n",
              "\n",
              "    .dataframe tbody tr th {\n",
              "        vertical-align: top;\n",
              "    }\n",
              "\n",
              "    .dataframe thead th {\n",
              "        text-align: right;\n",
              "    }\n",
              "</style>\n",
              "<table border=\"1\" class=\"dataframe\">\n",
              "  <thead>\n",
              "    <tr style=\"text-align: right;\">\n",
              "      <th></th>\n",
              "      <th>Miles_per_Gallon</th>\n",
              "      <th>Cylinders</th>\n",
              "      <th>Displacement</th>\n",
              "      <th>Horsepower</th>\n",
              "      <th>Weight_in_lbs</th>\n",
              "      <th>Acceleration</th>\n",
              "    </tr>\n",
              "  </thead>\n",
              "  <tbody>\n",
              "    <tr>\n",
              "      <th>count</th>\n",
              "      <td>398.000000</td>\n",
              "      <td>406.000000</td>\n",
              "      <td>406.000000</td>\n",
              "      <td>400.000000</td>\n",
              "      <td>406.000000</td>\n",
              "      <td>406.000000</td>\n",
              "    </tr>\n",
              "    <tr>\n",
              "      <th>mean</th>\n",
              "      <td>23.514573</td>\n",
              "      <td>5.475369</td>\n",
              "      <td>194.779557</td>\n",
              "      <td>105.082500</td>\n",
              "      <td>2979.413793</td>\n",
              "      <td>15.519704</td>\n",
              "    </tr>\n",
              "    <tr>\n",
              "      <th>std</th>\n",
              "      <td>7.815984</td>\n",
              "      <td>1.712160</td>\n",
              "      <td>104.922458</td>\n",
              "      <td>38.768779</td>\n",
              "      <td>847.004328</td>\n",
              "      <td>2.803359</td>\n",
              "    </tr>\n",
              "    <tr>\n",
              "      <th>min</th>\n",
              "      <td>9.000000</td>\n",
              "      <td>3.000000</td>\n",
              "      <td>68.000000</td>\n",
              "      <td>46.000000</td>\n",
              "      <td>1613.000000</td>\n",
              "      <td>8.000000</td>\n",
              "    </tr>\n",
              "    <tr>\n",
              "      <th>25%</th>\n",
              "      <td>17.500000</td>\n",
              "      <td>4.000000</td>\n",
              "      <td>105.000000</td>\n",
              "      <td>75.750000</td>\n",
              "      <td>2226.500000</td>\n",
              "      <td>13.700000</td>\n",
              "    </tr>\n",
              "    <tr>\n",
              "      <th>50%</th>\n",
              "      <td>23.000000</td>\n",
              "      <td>4.000000</td>\n",
              "      <td>151.000000</td>\n",
              "      <td>95.000000</td>\n",
              "      <td>2822.500000</td>\n",
              "      <td>15.500000</td>\n",
              "    </tr>\n",
              "    <tr>\n",
              "      <th>75%</th>\n",
              "      <td>29.000000</td>\n",
              "      <td>8.000000</td>\n",
              "      <td>302.000000</td>\n",
              "      <td>130.000000</td>\n",
              "      <td>3618.250000</td>\n",
              "      <td>17.175000</td>\n",
              "    </tr>\n",
              "    <tr>\n",
              "      <th>max</th>\n",
              "      <td>46.600000</td>\n",
              "      <td>8.000000</td>\n",
              "      <td>455.000000</td>\n",
              "      <td>230.000000</td>\n",
              "      <td>5140.000000</td>\n",
              "      <td>24.800000</td>\n",
              "    </tr>\n",
              "  </tbody>\n",
              "</table>\n",
              "</div>"
            ],
            "text/plain": [
              "       Miles_per_Gallon   Cylinders  ...  Weight_in_lbs  Acceleration\n",
              "count        398.000000  406.000000  ...     406.000000    406.000000\n",
              "mean          23.514573    5.475369  ...    2979.413793     15.519704\n",
              "std            7.815984    1.712160  ...     847.004328      2.803359\n",
              "min            9.000000    3.000000  ...    1613.000000      8.000000\n",
              "25%           17.500000    4.000000  ...    2226.500000     13.700000\n",
              "50%           23.000000    4.000000  ...    2822.500000     15.500000\n",
              "75%           29.000000    8.000000  ...    3618.250000     17.175000\n",
              "max           46.600000    8.000000  ...    5140.000000     24.800000\n",
              "\n",
              "[8 rows x 6 columns]"
            ]
          },
          "metadata": {
            "tags": []
          },
          "execution_count": 21
        }
      ]
    },
    {
      "cell_type": "code",
      "metadata": {
        "id": "Hr4ySUgGV-EL",
        "outputId": "9073af8c-1a7d-4314-9c1e-6436aacf8ef8",
        "colab": {
          "base_uri": "https://localhost:8080/"
        }
      },
      "source": [
        "df.Miles_per_Gallon.mean()"
      ],
      "execution_count": null,
      "outputs": [
        {
          "output_type": "execute_result",
          "data": {
            "text/plain": [
              "23.514572864321615"
            ]
          },
          "metadata": {
            "tags": []
          },
          "execution_count": 23
        }
      ]
    },
    {
      "cell_type": "code",
      "metadata": {
        "id": "Wyql7-fFWYoR",
        "outputId": "3e7186ae-0519-4ecd-b47b-1409bdafbc13",
        "colab": {
          "base_uri": "https://localhost:8080/"
        }
      },
      "source": [
        "df.Miles_per_Gallon.std()"
      ],
      "execution_count": null,
      "outputs": [
        {
          "output_type": "execute_result",
          "data": {
            "text/plain": [
              "7.815984312565782"
            ]
          },
          "metadata": {
            "tags": []
          },
          "execution_count": 24
        }
      ]
    },
    {
      "cell_type": "code",
      "metadata": {
        "id": "pCaAgOCWWcso",
        "outputId": "4f039d05-4988-4228-c71f-4c8da2b13b94",
        "colab": {
          "base_uri": "https://localhost:8080/"
        }
      },
      "source": [
        "df.Miles_per_Gallon.quantile(q=0.25)"
      ],
      "execution_count": null,
      "outputs": [
        {
          "output_type": "execute_result",
          "data": {
            "text/plain": [
              "17.5"
            ]
          },
          "metadata": {
            "tags": []
          },
          "execution_count": 25
        }
      ]
    },
    {
      "cell_type": "code",
      "metadata": {
        "id": "1gW6vwnEWfdl"
      },
      "source": [
        "group1 = df[df.Miles_per_Gallon >= 20]\n",
        "group2 = df[df.Miles_per_Gallon < 20]"
      ],
      "execution_count": null,
      "outputs": []
    },
    {
      "cell_type": "code",
      "metadata": {
        "id": "TNrU06qkW0pg",
        "outputId": "41728925-87aa-4985-ba16-a1a94370cda0",
        "colab": {
          "base_uri": "https://localhost:8080/",
          "height": 297
        }
      },
      "source": [
        "group1.describe()"
      ],
      "execution_count": null,
      "outputs": [
        {
          "output_type": "execute_result",
          "data": {
            "text/html": [
              "<div>\n",
              "<style scoped>\n",
              "    .dataframe tbody tr th:only-of-type {\n",
              "        vertical-align: middle;\n",
              "    }\n",
              "\n",
              "    .dataframe tbody tr th {\n",
              "        vertical-align: top;\n",
              "    }\n",
              "\n",
              "    .dataframe thead th {\n",
              "        text-align: right;\n",
              "    }\n",
              "</style>\n",
              "<table border=\"1\" class=\"dataframe\">\n",
              "  <thead>\n",
              "    <tr style=\"text-align: right;\">\n",
              "      <th></th>\n",
              "      <th>Miles_per_Gallon</th>\n",
              "      <th>Cylinders</th>\n",
              "      <th>Displacement</th>\n",
              "      <th>Horsepower</th>\n",
              "      <th>Weight_in_lbs</th>\n",
              "      <th>Acceleration</th>\n",
              "    </tr>\n",
              "  </thead>\n",
              "  <tbody>\n",
              "    <tr>\n",
              "      <th>count</th>\n",
              "      <td>247.000000</td>\n",
              "      <td>247.000000</td>\n",
              "      <td>247.000000</td>\n",
              "      <td>241.000000</td>\n",
              "      <td>247.000000</td>\n",
              "      <td>247.000000</td>\n",
              "    </tr>\n",
              "    <tr>\n",
              "      <th>mean</th>\n",
              "      <td>28.291903</td>\n",
              "      <td>4.384615</td>\n",
              "      <td>127.512146</td>\n",
              "      <td>82.398340</td>\n",
              "      <td>2443.635628</td>\n",
              "      <td>16.440891</td>\n",
              "    </tr>\n",
              "    <tr>\n",
              "      <th>std</th>\n",
              "      <td>5.870930</td>\n",
              "      <td>0.893658</td>\n",
              "      <td>48.203813</td>\n",
              "      <td>17.127191</td>\n",
              "      <td>452.657515</td>\n",
              "      <td>2.375670</td>\n",
              "    </tr>\n",
              "    <tr>\n",
              "      <th>min</th>\n",
              "      <td>20.000000</td>\n",
              "      <td>3.000000</td>\n",
              "      <td>68.000000</td>\n",
              "      <td>46.000000</td>\n",
              "      <td>1613.000000</td>\n",
              "      <td>11.300000</td>\n",
              "    </tr>\n",
              "    <tr>\n",
              "      <th>25%</th>\n",
              "      <td>23.900000</td>\n",
              "      <td>4.000000</td>\n",
              "      <td>97.000000</td>\n",
              "      <td>70.000000</td>\n",
              "      <td>2109.000000</td>\n",
              "      <td>14.700000</td>\n",
              "    </tr>\n",
              "    <tr>\n",
              "      <th>50%</th>\n",
              "      <td>27.200000</td>\n",
              "      <td>4.000000</td>\n",
              "      <td>113.000000</td>\n",
              "      <td>83.000000</td>\n",
              "      <td>2372.000000</td>\n",
              "      <td>16.000000</td>\n",
              "    </tr>\n",
              "    <tr>\n",
              "      <th>75%</th>\n",
              "      <td>32.050000</td>\n",
              "      <td>4.000000</td>\n",
              "      <td>140.000000</td>\n",
              "      <td>92.000000</td>\n",
              "      <td>2722.500000</td>\n",
              "      <td>17.700000</td>\n",
              "    </tr>\n",
              "    <tr>\n",
              "      <th>max</th>\n",
              "      <td>46.600000</td>\n",
              "      <td>8.000000</td>\n",
              "      <td>350.000000</td>\n",
              "      <td>139.000000</td>\n",
              "      <td>3900.000000</td>\n",
              "      <td>24.800000</td>\n",
              "    </tr>\n",
              "  </tbody>\n",
              "</table>\n",
              "</div>"
            ],
            "text/plain": [
              "       Miles_per_Gallon   Cylinders  ...  Weight_in_lbs  Acceleration\n",
              "count        247.000000  247.000000  ...     247.000000    247.000000\n",
              "mean          28.291903    4.384615  ...    2443.635628     16.440891\n",
              "std            5.870930    0.893658  ...     452.657515      2.375670\n",
              "min           20.000000    3.000000  ...    1613.000000     11.300000\n",
              "25%           23.900000    4.000000  ...    2109.000000     14.700000\n",
              "50%           27.200000    4.000000  ...    2372.000000     16.000000\n",
              "75%           32.050000    4.000000  ...    2722.500000     17.700000\n",
              "max           46.600000    8.000000  ...    3900.000000     24.800000\n",
              "\n",
              "[8 rows x 6 columns]"
            ]
          },
          "metadata": {
            "tags": []
          },
          "execution_count": 27
        }
      ]
    },
    {
      "cell_type": "code",
      "metadata": {
        "id": "fTkpMbp3W2JV",
        "outputId": "0ea8f1a0-306f-444b-9c9a-e654061a13d2",
        "colab": {
          "base_uri": "https://localhost:8080/",
          "height": 297
        }
      },
      "source": [
        "group2.describe()"
      ],
      "execution_count": null,
      "outputs": [
        {
          "output_type": "execute_result",
          "data": {
            "text/html": [
              "<div>\n",
              "<style scoped>\n",
              "    .dataframe tbody tr th:only-of-type {\n",
              "        vertical-align: middle;\n",
              "    }\n",
              "\n",
              "    .dataframe tbody tr th {\n",
              "        vertical-align: top;\n",
              "    }\n",
              "\n",
              "    .dataframe thead th {\n",
              "        text-align: right;\n",
              "    }\n",
              "</style>\n",
              "<table border=\"1\" class=\"dataframe\">\n",
              "  <thead>\n",
              "    <tr style=\"text-align: right;\">\n",
              "      <th></th>\n",
              "      <th>Miles_per_Gallon</th>\n",
              "      <th>Cylinders</th>\n",
              "      <th>Displacement</th>\n",
              "      <th>Horsepower</th>\n",
              "      <th>Weight_in_lbs</th>\n",
              "      <th>Acceleration</th>\n",
              "    </tr>\n",
              "  </thead>\n",
              "  <tbody>\n",
              "    <tr>\n",
              "      <th>count</th>\n",
              "      <td>151.000000</td>\n",
              "      <td>151.000000</td>\n",
              "      <td>151.000000</td>\n",
              "      <td>151.000000</td>\n",
              "      <td>151.000000</td>\n",
              "      <td>151.000000</td>\n",
              "    </tr>\n",
              "    <tr>\n",
              "      <th>mean</th>\n",
              "      <td>15.700000</td>\n",
              "      <td>7.205298</td>\n",
              "      <td>301.245033</td>\n",
              "      <td>139.695364</td>\n",
              "      <td>3832.125828</td>\n",
              "      <td>14.140397</td>\n",
              "    </tr>\n",
              "    <tr>\n",
              "      <th>std</th>\n",
              "      <td>2.469872</td>\n",
              "      <td>1.173700</td>\n",
              "      <td>78.152156</td>\n",
              "      <td>36.889202</td>\n",
              "      <td>597.962354</td>\n",
              "      <td>2.750519</td>\n",
              "    </tr>\n",
              "    <tr>\n",
              "      <th>min</th>\n",
              "      <td>9.000000</td>\n",
              "      <td>3.000000</td>\n",
              "      <td>70.000000</td>\n",
              "      <td>72.000000</td>\n",
              "      <td>2124.000000</td>\n",
              "      <td>8.000000</td>\n",
              "    </tr>\n",
              "    <tr>\n",
              "      <th>25%</th>\n",
              "      <td>14.000000</td>\n",
              "      <td>6.000000</td>\n",
              "      <td>250.000000</td>\n",
              "      <td>106.500000</td>\n",
              "      <td>3417.500000</td>\n",
              "      <td>12.050000</td>\n",
              "    </tr>\n",
              "    <tr>\n",
              "      <th>50%</th>\n",
              "      <td>16.000000</td>\n",
              "      <td>8.000000</td>\n",
              "      <td>305.000000</td>\n",
              "      <td>145.000000</td>\n",
              "      <td>3840.000000</td>\n",
              "      <td>13.700000</td>\n",
              "    </tr>\n",
              "    <tr>\n",
              "      <th>75%</th>\n",
              "      <td>18.000000</td>\n",
              "      <td>8.000000</td>\n",
              "      <td>350.000000</td>\n",
              "      <td>160.000000</td>\n",
              "      <td>4294.500000</td>\n",
              "      <td>15.650000</td>\n",
              "    </tr>\n",
              "    <tr>\n",
              "      <th>max</th>\n",
              "      <td>19.900000</td>\n",
              "      <td>8.000000</td>\n",
              "      <td>455.000000</td>\n",
              "      <td>230.000000</td>\n",
              "      <td>5140.000000</td>\n",
              "      <td>21.900000</td>\n",
              "    </tr>\n",
              "  </tbody>\n",
              "</table>\n",
              "</div>"
            ],
            "text/plain": [
              "       Miles_per_Gallon   Cylinders  ...  Weight_in_lbs  Acceleration\n",
              "count        151.000000  151.000000  ...     151.000000    151.000000\n",
              "mean          15.700000    7.205298  ...    3832.125828     14.140397\n",
              "std            2.469872    1.173700  ...     597.962354      2.750519\n",
              "min            9.000000    3.000000  ...    2124.000000      8.000000\n",
              "25%           14.000000    6.000000  ...    3417.500000     12.050000\n",
              "50%           16.000000    8.000000  ...    3840.000000     13.700000\n",
              "75%           18.000000    8.000000  ...    4294.500000     15.650000\n",
              "max           19.900000    8.000000  ...    5140.000000     21.900000\n",
              "\n",
              "[8 rows x 6 columns]"
            ]
          },
          "metadata": {
            "tags": []
          },
          "execution_count": 28
        }
      ]
    },
    {
      "cell_type": "code",
      "metadata": {
        "id": "DdvkD2liW3Wm",
        "outputId": "dc2fc958-44af-4cb6-c236-02d394d6d5be",
        "colab": {
          "base_uri": "https://localhost:8080/",
          "height": 235
        }
      },
      "source": [
        "df.corr()"
      ],
      "execution_count": null,
      "outputs": [
        {
          "output_type": "execute_result",
          "data": {
            "text/html": [
              "<div>\n",
              "<style scoped>\n",
              "    .dataframe tbody tr th:only-of-type {\n",
              "        vertical-align: middle;\n",
              "    }\n",
              "\n",
              "    .dataframe tbody tr th {\n",
              "        vertical-align: top;\n",
              "    }\n",
              "\n",
              "    .dataframe thead th {\n",
              "        text-align: right;\n",
              "    }\n",
              "</style>\n",
              "<table border=\"1\" class=\"dataframe\">\n",
              "  <thead>\n",
              "    <tr style=\"text-align: right;\">\n",
              "      <th></th>\n",
              "      <th>Miles_per_Gallon</th>\n",
              "      <th>Cylinders</th>\n",
              "      <th>Displacement</th>\n",
              "      <th>Horsepower</th>\n",
              "      <th>Weight_in_lbs</th>\n",
              "      <th>Acceleration</th>\n",
              "    </tr>\n",
              "  </thead>\n",
              "  <tbody>\n",
              "    <tr>\n",
              "      <th>Miles_per_Gallon</th>\n",
              "      <td>1.000000</td>\n",
              "      <td>-0.775396</td>\n",
              "      <td>-0.804203</td>\n",
              "      <td>-0.778427</td>\n",
              "      <td>-0.831741</td>\n",
              "      <td>0.420289</td>\n",
              "    </tr>\n",
              "    <tr>\n",
              "      <th>Cylinders</th>\n",
              "      <td>-0.775396</td>\n",
              "      <td>1.000000</td>\n",
              "      <td>0.951787</td>\n",
              "      <td>0.844158</td>\n",
              "      <td>0.895220</td>\n",
              "      <td>-0.522452</td>\n",
              "    </tr>\n",
              "    <tr>\n",
              "      <th>Displacement</th>\n",
              "      <td>-0.804203</td>\n",
              "      <td>0.951787</td>\n",
              "      <td>1.000000</td>\n",
              "      <td>0.898326</td>\n",
              "      <td>0.932475</td>\n",
              "      <td>-0.557984</td>\n",
              "    </tr>\n",
              "    <tr>\n",
              "      <th>Horsepower</th>\n",
              "      <td>-0.778427</td>\n",
              "      <td>0.844158</td>\n",
              "      <td>0.898326</td>\n",
              "      <td>1.000000</td>\n",
              "      <td>0.866586</td>\n",
              "      <td>-0.697124</td>\n",
              "    </tr>\n",
              "    <tr>\n",
              "      <th>Weight_in_lbs</th>\n",
              "      <td>-0.831741</td>\n",
              "      <td>0.895220</td>\n",
              "      <td>0.932475</td>\n",
              "      <td>0.866586</td>\n",
              "      <td>1.000000</td>\n",
              "      <td>-0.430086</td>\n",
              "    </tr>\n",
              "    <tr>\n",
              "      <th>Acceleration</th>\n",
              "      <td>0.420289</td>\n",
              "      <td>-0.522452</td>\n",
              "      <td>-0.557984</td>\n",
              "      <td>-0.697124</td>\n",
              "      <td>-0.430086</td>\n",
              "      <td>1.000000</td>\n",
              "    </tr>\n",
              "  </tbody>\n",
              "</table>\n",
              "</div>"
            ],
            "text/plain": [
              "                  Miles_per_Gallon  Cylinders  ...  Weight_in_lbs  Acceleration\n",
              "Miles_per_Gallon          1.000000  -0.775396  ...      -0.831741      0.420289\n",
              "Cylinders                -0.775396   1.000000  ...       0.895220     -0.522452\n",
              "Displacement             -0.804203   0.951787  ...       0.932475     -0.557984\n",
              "Horsepower               -0.778427   0.844158  ...       0.866586     -0.697124\n",
              "Weight_in_lbs            -0.831741   0.895220  ...       1.000000     -0.430086\n",
              "Acceleration              0.420289  -0.522452  ...      -0.430086      1.000000\n",
              "\n",
              "[6 rows x 6 columns]"
            ]
          },
          "metadata": {
            "tags": []
          },
          "execution_count": 29
        }
      ]
    },
    {
      "cell_type": "code",
      "metadata": {
        "id": "lhM35qXeXOM7",
        "outputId": "e12845cc-a98f-4d11-ee17-2572ff8ca851",
        "colab": {
          "base_uri": "https://localhost:8080/",
          "height": 235
        }
      },
      "source": [
        "group1.corr()"
      ],
      "execution_count": null,
      "outputs": [
        {
          "output_type": "execute_result",
          "data": {
            "text/html": [
              "<div>\n",
              "<style scoped>\n",
              "    .dataframe tbody tr th:only-of-type {\n",
              "        vertical-align: middle;\n",
              "    }\n",
              "\n",
              "    .dataframe tbody tr th {\n",
              "        vertical-align: top;\n",
              "    }\n",
              "\n",
              "    .dataframe thead th {\n",
              "        text-align: right;\n",
              "    }\n",
              "</style>\n",
              "<table border=\"1\" class=\"dataframe\">\n",
              "  <thead>\n",
              "    <tr style=\"text-align: right;\">\n",
              "      <th></th>\n",
              "      <th>Miles_per_Gallon</th>\n",
              "      <th>Cylinders</th>\n",
              "      <th>Displacement</th>\n",
              "      <th>Horsepower</th>\n",
              "      <th>Weight_in_lbs</th>\n",
              "      <th>Acceleration</th>\n",
              "    </tr>\n",
              "  </thead>\n",
              "  <tbody>\n",
              "    <tr>\n",
              "      <th>Miles_per_Gallon</th>\n",
              "      <td>1.000000</td>\n",
              "      <td>-0.388041</td>\n",
              "      <td>-0.519216</td>\n",
              "      <td>-0.618429</td>\n",
              "      <td>-0.592682</td>\n",
              "      <td>0.134664</td>\n",
              "    </tr>\n",
              "    <tr>\n",
              "      <th>Cylinders</th>\n",
              "      <td>-0.388041</td>\n",
              "      <td>1.000000</td>\n",
              "      <td>0.869231</td>\n",
              "      <td>0.529387</td>\n",
              "      <td>0.673271</td>\n",
              "      <td>-0.070433</td>\n",
              "    </tr>\n",
              "    <tr>\n",
              "      <th>Displacement</th>\n",
              "      <td>-0.519216</td>\n",
              "      <td>0.869231</td>\n",
              "      <td>1.000000</td>\n",
              "      <td>0.650125</td>\n",
              "      <td>0.858708</td>\n",
              "      <td>-0.095029</td>\n",
              "    </tr>\n",
              "    <tr>\n",
              "      <th>Horsepower</th>\n",
              "      <td>-0.618429</td>\n",
              "      <td>0.529387</td>\n",
              "      <td>0.650125</td>\n",
              "      <td>1.000000</td>\n",
              "      <td>0.704329</td>\n",
              "      <td>-0.514586</td>\n",
              "    </tr>\n",
              "    <tr>\n",
              "      <th>Weight_in_lbs</th>\n",
              "      <td>-0.592682</td>\n",
              "      <td>0.673271</td>\n",
              "      <td>0.858708</td>\n",
              "      <td>0.704329</td>\n",
              "      <td>1.000000</td>\n",
              "      <td>-0.005755</td>\n",
              "    </tr>\n",
              "    <tr>\n",
              "      <th>Acceleration</th>\n",
              "      <td>0.134664</td>\n",
              "      <td>-0.070433</td>\n",
              "      <td>-0.095029</td>\n",
              "      <td>-0.514586</td>\n",
              "      <td>-0.005755</td>\n",
              "      <td>1.000000</td>\n",
              "    </tr>\n",
              "  </tbody>\n",
              "</table>\n",
              "</div>"
            ],
            "text/plain": [
              "                  Miles_per_Gallon  Cylinders  ...  Weight_in_lbs  Acceleration\n",
              "Miles_per_Gallon          1.000000  -0.388041  ...      -0.592682      0.134664\n",
              "Cylinders                -0.388041   1.000000  ...       0.673271     -0.070433\n",
              "Displacement             -0.519216   0.869231  ...       0.858708     -0.095029\n",
              "Horsepower               -0.618429   0.529387  ...       0.704329     -0.514586\n",
              "Weight_in_lbs            -0.592682   0.673271  ...       1.000000     -0.005755\n",
              "Acceleration              0.134664  -0.070433  ...      -0.005755      1.000000\n",
              "\n",
              "[6 rows x 6 columns]"
            ]
          },
          "metadata": {
            "tags": []
          },
          "execution_count": 30
        }
      ]
    },
    {
      "cell_type": "code",
      "metadata": {
        "id": "elm9W_dvXbNx",
        "outputId": "62b0d3e6-241e-439b-dff0-81b1675dcef1",
        "colab": {
          "base_uri": "https://localhost:8080/",
          "height": 235
        }
      },
      "source": [
        "group2.corr()"
      ],
      "execution_count": null,
      "outputs": [
        {
          "output_type": "execute_result",
          "data": {
            "text/html": [
              "<div>\n",
              "<style scoped>\n",
              "    .dataframe tbody tr th:only-of-type {\n",
              "        vertical-align: middle;\n",
              "    }\n",
              "\n",
              "    .dataframe tbody tr th {\n",
              "        vertical-align: top;\n",
              "    }\n",
              "\n",
              "    .dataframe thead th {\n",
              "        text-align: right;\n",
              "    }\n",
              "</style>\n",
              "<table border=\"1\" class=\"dataframe\">\n",
              "  <thead>\n",
              "    <tr style=\"text-align: right;\">\n",
              "      <th></th>\n",
              "      <th>Miles_per_Gallon</th>\n",
              "      <th>Cylinders</th>\n",
              "      <th>Displacement</th>\n",
              "      <th>Horsepower</th>\n",
              "      <th>Weight_in_lbs</th>\n",
              "      <th>Acceleration</th>\n",
              "    </tr>\n",
              "  </thead>\n",
              "  <tbody>\n",
              "    <tr>\n",
              "      <th>Miles_per_Gallon</th>\n",
              "      <td>1.000000</td>\n",
              "      <td>-0.605749</td>\n",
              "      <td>-0.657698</td>\n",
              "      <td>-0.701879</td>\n",
              "      <td>-0.720812</td>\n",
              "      <td>0.411937</td>\n",
              "    </tr>\n",
              "    <tr>\n",
              "      <th>Cylinders</th>\n",
              "      <td>-0.605749</td>\n",
              "      <td>1.000000</td>\n",
              "      <td>0.858299</td>\n",
              "      <td>0.722523</td>\n",
              "      <td>0.744618</td>\n",
              "      <td>-0.611991</td>\n",
              "    </tr>\n",
              "    <tr>\n",
              "      <th>Displacement</th>\n",
              "      <td>-0.657698</td>\n",
              "      <td>0.858299</td>\n",
              "      <td>1.000000</td>\n",
              "      <td>0.831185</td>\n",
              "      <td>0.782534</td>\n",
              "      <td>-0.680238</td>\n",
              "    </tr>\n",
              "    <tr>\n",
              "      <th>Horsepower</th>\n",
              "      <td>-0.701879</td>\n",
              "      <td>0.722523</td>\n",
              "      <td>0.831185</td>\n",
              "      <td>1.000000</td>\n",
              "      <td>0.709881</td>\n",
              "      <td>-0.753087</td>\n",
              "    </tr>\n",
              "    <tr>\n",
              "      <th>Weight_in_lbs</th>\n",
              "      <td>-0.720812</td>\n",
              "      <td>0.744618</td>\n",
              "      <td>0.782534</td>\n",
              "      <td>0.709881</td>\n",
              "      <td>1.000000</td>\n",
              "      <td>-0.349320</td>\n",
              "    </tr>\n",
              "    <tr>\n",
              "      <th>Acceleration</th>\n",
              "      <td>0.411937</td>\n",
              "      <td>-0.611991</td>\n",
              "      <td>-0.680238</td>\n",
              "      <td>-0.753087</td>\n",
              "      <td>-0.349320</td>\n",
              "      <td>1.000000</td>\n",
              "    </tr>\n",
              "  </tbody>\n",
              "</table>\n",
              "</div>"
            ],
            "text/plain": [
              "                  Miles_per_Gallon  Cylinders  ...  Weight_in_lbs  Acceleration\n",
              "Miles_per_Gallon          1.000000  -0.605749  ...      -0.720812      0.411937\n",
              "Cylinders                -0.605749   1.000000  ...       0.744618     -0.611991\n",
              "Displacement             -0.657698   0.858299  ...       0.782534     -0.680238\n",
              "Horsepower               -0.701879   0.722523  ...       0.709881     -0.753087\n",
              "Weight_in_lbs            -0.720812   0.744618  ...       1.000000     -0.349320\n",
              "Acceleration              0.411937  -0.611991  ...      -0.349320      1.000000\n",
              "\n",
              "[6 rows x 6 columns]"
            ]
          },
          "metadata": {
            "tags": []
          },
          "execution_count": 31
        }
      ]
    },
    {
      "cell_type": "code",
      "metadata": {
        "id": "1VIhOdDgXcPM"
      },
      "source": [
        "x = np.random.normal(size = 10000)"
      ],
      "execution_count": null,
      "outputs": []
    },
    {
      "cell_type": "code",
      "metadata": {
        "id": "3JEN_8TlbTBf",
        "outputId": "8ac7cd93-e56d-4d20-f55f-a6362d0eeea1",
        "colab": {
          "base_uri": "https://localhost:8080/",
          "height": 841
        }
      },
      "source": [
        "plt.hist(x, bins = 100)"
      ],
      "execution_count": null,
      "outputs": [
        {
          "output_type": "execute_result",
          "data": {
            "text/plain": [
              "(array([  1.,   0.,   0.,   0.,   0.,   1.,   1.,   0.,   1.,   1.,   0.,\n",
              "          2.,   4.,   5.,   3.,   9.,   9.,  11.,  13.,  23.,  26.,  23.,\n",
              "         28.,  39.,  48.,  47.,  56.,  62.,  85.,  70.,  94., 103., 131.,\n",
              "        145., 151., 163., 180., 168., 250., 221., 221., 234., 254., 252.,\n",
              "        279., 302., 290., 299., 326., 300., 317., 298., 259., 298., 293.,\n",
              "        271., 269., 253., 275., 224., 242., 204., 195., 188., 189., 137.,\n",
              "        145., 112., 103., 104.,  84.,  97.,  85.,  62.,  47.,  47.,  39.,\n",
              "         44.,  37.,  18.,  20.,  25.,  13.,  15.,   7.,  12.,   7.,   8.,\n",
              "          5.,   1.,   3.,   1.,   8.,   2.,   0.,   1.,   2.,   1.,   0.,\n",
              "          2.]),\n",
              " array([-3.86155894, -3.78503289, -3.70850683, -3.63198078, -3.55545472,\n",
              "        -3.47892867, -3.40240261, -3.32587656, -3.2493505 , -3.17282445,\n",
              "        -3.09629839, -3.01977233, -2.94324628, -2.86672022, -2.79019417,\n",
              "        -2.71366811, -2.63714206, -2.560616  , -2.48408995, -2.40756389,\n",
              "        -2.33103784, -2.25451178, -2.17798572, -2.10145967, -2.02493361,\n",
              "        -1.94840756, -1.8718815 , -1.79535545, -1.71882939, -1.64230334,\n",
              "        -1.56577728, -1.48925123, -1.41272517, -1.33619911, -1.25967306,\n",
              "        -1.183147  , -1.10662095, -1.03009489, -0.95356884, -0.87704278,\n",
              "        -0.80051673, -0.72399067, -0.64746462, -0.57093856, -0.4944125 ,\n",
              "        -0.41788645, -0.34136039, -0.26483434, -0.18830828, -0.11178223,\n",
              "        -0.03525617,  0.04126988,  0.11779594,  0.19432199,  0.27084805,\n",
              "         0.34737411,  0.42390016,  0.50042622,  0.57695227,  0.65347833,\n",
              "         0.73000438,  0.80653044,  0.88305649,  0.95958255,  1.03610861,\n",
              "         1.11263466,  1.18916072,  1.26568677,  1.34221283,  1.41873888,\n",
              "         1.49526494,  1.57179099,  1.64831705,  1.7248431 ,  1.80136916,\n",
              "         1.87789522,  1.95442127,  2.03094733,  2.10747338,  2.18399944,\n",
              "         2.26052549,  2.33705155,  2.4135776 ,  2.49010366,  2.56662971,\n",
              "         2.64315577,  2.71968183,  2.79620788,  2.87273394,  2.94925999,\n",
              "         3.02578605,  3.1023121 ,  3.17883816,  3.25536421,  3.33189027,\n",
              "         3.40841632,  3.48494238,  3.56146844,  3.63799449,  3.71452055,\n",
              "         3.7910466 ]),\n",
              " <a list of 100 Patch objects>)"
            ]
          },
          "metadata": {
            "tags": []
          },
          "execution_count": 33
        },
        {
          "output_type": "display_data",
          "data": {
            "image/png": "[encoded data removed]",
            "text/plain": [
              "<Figure size 432x288 with 1 Axes>"
            ]
          },
          "metadata": {
            "tags": [],
            "needs_background": "light"
          }
        }
      ]
    },
    {
      "cell_type": "code",
      "metadata": {
        "id": "aeez1r8bbVkU"
      },
      "source": [
        "x = np.random.normal(loc = 10, scale = 5.0, size = 10000)"
      ],
      "execution_count": null,
      "outputs": []
    },
    {
      "cell_type": "code",
      "metadata": {
        "id": "7Zh13TGLbsHv",
        "outputId": "ac52344a-6e7b-4865-975b-6a3d114b7e06",
        "colab": {
          "base_uri": "https://localhost:8080/",
          "height": 895
        }
      },
      "source": [
        "plt.hist(x, bins = 100)"
      ],
      "execution_count": null,
      "outputs": [
        {
          "output_type": "execute_result",
          "data": {
            "text/plain": [
              "(array([  1.,   0.,   0.,   0.,   0.,   0.,   0.,   0.,   0.,   1.,   0.,\n",
              "          2.,   0.,   4.,   0.,   3.,   3.,   5.,   4.,   8.,   5.,   5.,\n",
              "         15.,  18.,  18.,  27.,  30.,  45.,  47.,  36.,  54.,  64.,  68.,\n",
              "         96., 102., 100., 131., 142., 176., 151., 171., 197., 263., 252.,\n",
              "        270., 245., 307., 284., 281., 330., 340., 354., 346., 326., 335.,\n",
              "        343., 345., 317., 299., 268., 262., 270., 277., 226., 210., 183.,\n",
              "        168., 170., 149., 143., 111.,  88.,  74.,  68.,  61.,  54.,  36.,\n",
              "         28.,  28.,  36.,  21.,  18.,  22.,  10.,  11.,  11.,   9.,   4.,\n",
              "          1.,   7.,   2.,   0.,   2.,   2.,   2.,   0.,   1.,   0.,   0.,\n",
              "          1.]), array([-12.29857022, -11.87870293, -11.45883563, -11.03896834,\n",
              "        -10.61910105, -10.19923375,  -9.77936646,  -9.35949916,\n",
              "         -8.93963187,  -8.51976458,  -8.09989728,  -7.68002999,\n",
              "         -7.2601627 ,  -6.8402954 ,  -6.42042811,  -6.00056082,\n",
              "         -5.58069352,  -5.16082623,  -4.74095894,  -4.32109164,\n",
              "         -3.90122435,  -3.48135705,  -3.06148976,  -2.64162247,\n",
              "         -2.22175517,  -1.80188788,  -1.38202059,  -0.96215329,\n",
              "         -0.542286  ,  -0.12241871,   0.29744859,   0.71731588,\n",
              "          1.13718317,   1.55705047,   1.97691776,   2.39678506,\n",
              "          2.81665235,   3.23651964,   3.65638694,   4.07625423,\n",
              "          4.49612152,   4.91598882,   5.33585611,   5.7557234 ,\n",
              "          6.1755907 ,   6.59545799,   7.01532528,   7.43519258,\n",
              "          7.85505987,   8.27492716,   8.69479446,   9.11466175,\n",
              "          9.53452905,   9.95439634,  10.37426363,  10.79413093,\n",
              "         11.21399822,  11.63386551,  12.05373281,  12.4736001 ,\n",
              "         12.89346739,  13.31333469,  13.73320198,  14.15306927,\n",
              "         14.57293657,  14.99280386,  15.41267116,  15.83253845,\n",
              "         16.25240574,  16.67227304,  17.09214033,  17.51200762,\n",
              "         17.93187492,  18.35174221,  18.7716095 ,  19.1914768 ,\n",
              "         19.61134409,  20.03121138,  20.45107868,  20.87094597,\n",
              "         21.29081327,  21.71068056,  22.13054785,  22.55041515,\n",
              "         22.97028244,  23.39014973,  23.81001703,  24.22988432,\n",
              "         24.64975161,  25.06961891,  25.4894862 ,  25.90935349,\n",
              "         26.32922079,  26.74908808,  27.16895537,  27.58882267,\n",
              "         28.00868996,  28.42855726,  28.84842455,  29.26829184,\n",
              "         29.68815914]), <a list of 100 Patch objects>)"
            ]
          },
          "metadata": {
            "tags": []
          },
          "execution_count": 35
        },
        {
          "output_type": "display_data",
          "data": {
            "image/png": "[encoded data removed]",
            "text/plain": [
              "<Figure size 432x288 with 1 Axes>"
            ]
          },
          "metadata": {
            "tags": [],
            "needs_background": "light"
          }
        }
      ]
    },
    {
      "cell_type": "code",
      "metadata": {
        "id": "K3Y0SedAbt_w"
      },
      "source": [
        "z = (x - 10)/5"
      ],
      "execution_count": null,
      "outputs": []
    },
    {
      "cell_type": "code",
      "metadata": {
        "id": "BOaB-8cnbz0i",
        "outputId": "09690068-be4a-446c-db0a-d525b27e804d",
        "colab": {
          "base_uri": "https://localhost:8080/",
          "height": 571
        }
      },
      "source": [
        "plt.hist(z, bins = 50)"
      ],
      "execution_count": null,
      "outputs": [
        {
          "output_type": "execute_result",
          "data": {
            "text/plain": [
              "(array([  1.,   0.,   0.,   0.,   1.,   2.,   4.,   3.,   8.,  12.,  10.,\n",
              "         33.,  45.,  75.,  83., 118., 164., 202., 273., 327., 368., 515.,\n",
              "        515., 591., 611., 694., 672., 678., 662., 567., 532., 503., 393.,\n",
              "        338., 292., 199., 142., 115.,  64.,  64.,  39.,  32.,  22.,  13.,\n",
              "          8.,   2.,   4.,   2.,   1.,   1.]),\n",
              " array([-4.45971404, -4.29176713, -4.12382021, -3.95587329, -3.78792637,\n",
              "        -3.61997946, -3.45203254, -3.28408562, -3.1161387 , -2.94819179,\n",
              "        -2.78024487, -2.61229795, -2.44435103, -2.27640412, -2.1084572 ,\n",
              "        -1.94051028, -1.77256337, -1.60461645, -1.43666953, -1.26872261,\n",
              "        -1.1007757 , -0.93282878, -0.76488186, -0.59693494, -0.42898803,\n",
              "        -0.26104111, -0.09309419,  0.07485273,  0.24279964,  0.41074656,\n",
              "         0.57869348,  0.7466404 ,  0.91458731,  1.08253423,  1.25048115,\n",
              "         1.41842807,  1.58637498,  1.7543219 ,  1.92226882,  2.09021574,\n",
              "         2.25816265,  2.42610957,  2.59405649,  2.76200341,  2.92995032,\n",
              "         3.09789724,  3.26584416,  3.43379107,  3.60173799,  3.76968491,\n",
              "         3.93763183]),\n",
              " <a list of 50 Patch objects>)"
            ]
          },
          "metadata": {
            "tags": []
          },
          "execution_count": 40
        },
        {
          "output_type": "display_data",
          "data": {
            "image/png": "[encoded data removed]",
            "text/plain": [
              "<Figure size 432x288 with 1 Axes>"
            ]
          },
          "metadata": {
            "tags": [],
            "needs_background": "light"
          }
        }
      ]
    },
    {
      "cell_type": "code",
      "metadata": {
        "id": "tLhoIuUqb7hy"
      },
      "source": [
        "sample_t = np.random.standard_t(df = 1000, size = 10000)"
      ],
      "execution_count": null,
      "outputs": []
    },
    {
      "cell_type": "code",
      "metadata": {
        "id": "g1cVYgx-cajq",
        "outputId": "b4654a89-0924-4861-f7b5-e2f3a37ab7cb",
        "colab": {
          "base_uri": "https://localhost:8080/",
          "height": 571
        }
      },
      "source": [
        "plt.hist(sample_t, bins = 50)"
      ],
      "execution_count": null,
      "outputs": [
        {
          "output_type": "execute_result",
          "data": {
            "text/plain": [
              "(array([  2.,   3.,   0.,   5.,   6.,  13.,  13.,  25.,  43.,  55.,  83.,\n",
              "         94., 136., 182., 205., 311., 356., 370., 465., 516., 555., 592.,\n",
              "        595., 616., 660., 576., 560., 504., 451., 464., 348., 294., 231.,\n",
              "        195., 147.,  80.,  71.,  56.,  33.,  25.,  24.,  19.,   5.,   6.,\n",
              "          6.,   0.,   0.,   2.,   0.,   2.]),\n",
              " array([-3.71503027, -3.55716865, -3.39930702, -3.24144539, -3.08358376,\n",
              "        -2.92572213, -2.7678605 , -2.60999887, -2.45213724, -2.29427562,\n",
              "        -2.13641399, -1.97855236, -1.82069073, -1.6628291 , -1.50496747,\n",
              "        -1.34710584, -1.18924421, -1.03138258, -0.87352096, -0.71565933,\n",
              "        -0.5577977 , -0.39993607, -0.24207444, -0.08421281,  0.07364882,\n",
              "         0.23151045,  0.38937208,  0.5472337 ,  0.70509533,  0.86295696,\n",
              "         1.02081859,  1.17868022,  1.33654185,  1.49440348,  1.65226511,\n",
              "         1.81012673,  1.96798836,  2.12584999,  2.28371162,  2.44157325,\n",
              "         2.59943488,  2.75729651,  2.91515814,  3.07301977,  3.23088139,\n",
              "         3.38874302,  3.54660465,  3.70446628,  3.86232791,  4.02018954,\n",
              "         4.17805117]),\n",
              " <a list of 50 Patch objects>)"
            ]
          },
          "metadata": {
            "tags": []
          },
          "execution_count": 44
        },
        {
          "output_type": "display_data",
          "data": {
            "image/png": "[encoded data removed]",
            "text/plain": [
              "<Figure size 432x288 with 1 Axes>"
            ]
          },
          "metadata": {
            "tags": [],
            "needs_background": "light"
          }
        }
      ]
    },
    {
      "cell_type": "code",
      "metadata": {
        "id": "6WIgXEzUcdIZ"
      },
      "source": [
        "normal_x = np.random.normal(size = 10000)"
      ],
      "execution_count": null,
      "outputs": []
    },
    {
      "cell_type": "code",
      "metadata": {
        "id": "v4-b4VxkdoX5"
      },
      "source": [
        "chi_square_one = normal_x**2"
      ],
      "execution_count": null,
      "outputs": []
    },
    {
      "cell_type": "code",
      "metadata": {
        "id": "V5ontDA9dwYj",
        "outputId": "89bb3b7a-a022-4424-fd9e-534dccf25de7",
        "colab": {
          "base_uri": "https://localhost:8080/",
          "height": 679
        }
      },
      "source": [
        "plt.hist(chi_square_one, bins = 50)"
      ],
      "execution_count": null,
      "outputs": [
        {
          "output_type": "execute_result",
          "data": {
            "text/plain": [
              "(array([4.754e+03, 1.565e+03, 9.450e+02, 6.520e+02, 4.880e+02, 3.590e+02,\n",
              "        2.810e+02, 2.160e+02, 1.560e+02, 1.410e+02, 8.800e+01, 8.000e+01,\n",
              "        6.900e+01, 4.800e+01, 3.700e+01, 1.900e+01, 2.100e+01, 1.700e+01,\n",
              "        1.500e+01, 9.000e+00, 1.600e+01, 6.000e+00, 4.000e+00, 1.000e+00,\n",
              "        4.000e+00, 1.000e+00, 1.000e+00, 0.000e+00, 0.000e+00, 2.000e+00,\n",
              "        0.000e+00, 1.000e+00, 0.000e+00, 1.000e+00, 2.000e+00, 0.000e+00,\n",
              "        0.000e+00, 0.000e+00, 0.000e+00, 0.000e+00, 0.000e+00, 0.000e+00,\n",
              "        0.000e+00, 0.000e+00, 0.000e+00, 0.000e+00, 0.000e+00, 0.000e+00,\n",
              "        0.000e+00, 1.000e+00]),\n",
              " array([6.66205406e-11, 4.02523295e-01, 8.05046591e-01, 1.20756989e+00,\n",
              "        1.61009318e+00, 2.01261648e+00, 2.41513977e+00, 2.81766307e+00,\n",
              "        3.22018636e+00, 3.62270966e+00, 4.02523295e+00, 4.42775625e+00,\n",
              "        4.83027954e+00, 5.23280284e+00, 5.63532614e+00, 6.03784943e+00,\n",
              "        6.44037273e+00, 6.84289602e+00, 7.24541932e+00, 7.64794261e+00,\n",
              "        8.05046591e+00, 8.45298920e+00, 8.85551250e+00, 9.25803579e+00,\n",
              "        9.66055909e+00, 1.00630824e+01, 1.04656057e+01, 1.08681290e+01,\n",
              "        1.12706523e+01, 1.16731756e+01, 1.20756989e+01, 1.24782222e+01,\n",
              "        1.28807455e+01, 1.32832687e+01, 1.36857920e+01, 1.40883153e+01,\n",
              "        1.44908386e+01, 1.48933619e+01, 1.52958852e+01, 1.56984085e+01,\n",
              "        1.61009318e+01, 1.65034551e+01, 1.69059784e+01, 1.73085017e+01,\n",
              "        1.77110250e+01, 1.81135483e+01, 1.85160716e+01, 1.89185949e+01,\n",
              "        1.93211182e+01, 1.97236415e+01, 2.01261648e+01]),\n",
              " <a list of 50 Patch objects>)"
            ]
          },
          "metadata": {
            "tags": []
          },
          "execution_count": 48
        },
        {
          "output_type": "display_data",
          "data": {
            "image/png": "[encoded data removed]",
            "text/plain": [
              "<Figure size 432x288 with 1 Axes>"
            ]
          },
          "metadata": {
            "tags": [],
            "needs_background": "light"
          }
        }
      ]
    },
    {
      "cell_type": "code",
      "metadata": {
        "id": "BhEIFsV6dyrB",
        "outputId": "92bc9cf2-7147-432c-b82a-0ca7f03bfd7e",
        "colab": {
          "base_uri": "https://localhost:8080/"
        }
      },
      "source": [
        "np.random.normal(size=10)"
      ],
      "execution_count": null,
      "outputs": [
        {
          "output_type": "execute_result",
          "data": {
            "text/plain": [
              "array([ 1.01595307, -0.22476115, -0.86329207, -1.42561555,  1.66865986,\n",
              "        0.0904179 , -0.05617577,  0.9483718 ,  0.74219133, -0.39970974])"
            ]
          },
          "metadata": {
            "tags": []
          },
          "execution_count": 52
        }
      ]
    },
    {
      "cell_type": "code",
      "metadata": {
        "id": "AD2ahWeKembO"
      },
      "source": [
        "random_sample = np.random.normal(loc = 5, size = 10)"
      ],
      "execution_count": null,
      "outputs": []
    },
    {
      "cell_type": "code",
      "metadata": {
        "id": "xAas2Z5Gf5Ci",
        "outputId": "55a76eef-3ea7-4b57-80cf-816a000a0ad1",
        "colab": {
          "base_uri": "https://localhost:8080/"
        }
      },
      "source": [
        "random_sample.mean()"
      ],
      "execution_count": null,
      "outputs": [
        {
          "output_type": "execute_result",
          "data": {
            "text/plain": [
              "4.925244031788238"
            ]
          },
          "metadata": {
            "tags": []
          },
          "execution_count": 54
        }
      ]
    },
    {
      "cell_type": "code",
      "metadata": {
        "id": "nuSpPKclf6sT",
        "outputId": "76ba1b42-7000-46fe-a27f-362c2253e1ab",
        "colab": {
          "base_uri": "https://localhost:8080/"
        }
      },
      "source": [
        "all_est = []\n",
        "for i in range(0,100):\n",
        "  random_sample = np.random.normal(loc = 5, size = 10)\n",
        "  mu_est = random_sample.mean()\n",
        "  all_est.append(mu_est)\n",
        "  print(i,mu_est)"
      ],
      "execution_count": null,
      "outputs": [
        {
          "output_type": "stream",
          "text": [
            "0 5.122182272644483\n",
            "1 4.447537720423514\n",
            "2 4.571564292544968\n",
            "3 4.757793722778663\n",
            "4 4.407750776146736\n",
            "5 5.25304543567607\n",
            "6 4.791077166538017\n",
            "7 5.280203333262013\n",
            "8 5.214844739218292\n",
            "9 4.724843565162283\n",
            "10 4.64449140513466\n",
            "11 4.628420613577652\n",
            "12 5.031265331659849\n",
            "13 4.713168835228938\n",
            "14 4.601852776133328\n",
            "15 5.040382829032596\n",
            "16 5.068533464824289\n",
            "17 4.474498553124199\n",
            "18 4.977932596161168\n",
            "19 4.945832322115289\n",
            "20 5.412836078037884\n",
            "21 4.699565738659724\n",
            "22 4.9849249680267445\n",
            "23 5.0895581990639185\n",
            "24 4.3195356625308605\n",
            "25 4.752290090341223\n",
            "26 5.3497486234046026\n",
            "27 4.679539985394135\n",
            "28 4.665655966257826\n",
            "29 5.347708671658515\n",
            "30 5.011773658100021\n",
            "31 5.014561378220394\n",
            "32 4.633046112365175\n",
            "33 4.893410481007041\n",
            "34 5.141236905365562\n",
            "35 4.787150792959695\n",
            "36 5.0168501381712485\n",
            "37 4.925658642902526\n",
            "38 4.771300584312256\n",
            "39 4.8612724103923854\n",
            "40 5.0285245731097525\n",
            "41 5.13014660972425\n",
            "42 4.9234436846372285\n",
            "43 5.179411796816364\n",
            "44 5.222757448059395\n",
            "45 5.440475656762136\n",
            "46 4.424561104362594\n",
            "47 4.861768494797677\n",
            "48 5.059390416209747\n",
            "49 4.574981702349922\n",
            "50 4.915748406647145\n",
            "51 5.185818674205338\n",
            "52 5.26710635567354\n",
            "53 4.896457070449136\n",
            "54 4.8820032682443255\n",
            "55 4.683872604603557\n",
            "56 5.1185093457264434\n",
            "57 4.809162874821878\n",
            "58 5.751764279763753\n",
            "59 5.015549097465134\n",
            "60 4.9158027244710905\n",
            "61 5.0513824640932965\n",
            "62 4.75516173270711\n",
            "63 4.973257575737527\n",
            "64 4.881908016195832\n",
            "65 5.091360252863397\n",
            "66 4.745054867313902\n",
            "67 5.01407998123179\n",
            "68 5.328717131171275\n",
            "69 5.180883785021477\n",
            "70 5.299562318965265\n",
            "71 4.785308006573812\n",
            "72 5.369276758657643\n",
            "73 4.450683297338993\n",
            "74 5.083777025984121\n",
            "75 4.942504988215882\n",
            "76 4.4548141126870515\n",
            "77 4.8680137623805475\n",
            "78 5.193031522515799\n",
            "79 4.666838505221131\n",
            "80 4.9790078717178785\n",
            "81 4.9414506610142634\n",
            "82 4.4433985172141455\n",
            "83 5.334951215806559\n",
            "84 5.266329310187937\n",
            "85 5.276704148707514\n",
            "86 5.260562628937605\n",
            "87 5.042742579148564\n",
            "88 5.0518915367320085\n",
            "89 4.52943870546827\n",
            "90 5.411953653004658\n",
            "91 5.464491538353245\n",
            "92 4.73422365329611\n",
            "93 4.596212648930348\n",
            "94 4.847559286900344\n",
            "95 5.1169150421303735\n",
            "96 4.8015835518600625\n",
            "97 4.7148207196774425\n",
            "98 4.814534518681382\n",
            "99 4.084048200707189\n"
          ],
          "name": "stdout"
        }
      ]
    },
    {
      "cell_type": "code",
      "metadata": {
        "id": "x7paEML5gPrc",
        "outputId": "70f6ee0b-9085-47bd-eee2-5190652e43fe",
        "colab": {
          "base_uri": "https://localhost:8080/"
        }
      },
      "source": [
        "all_est"
      ],
      "execution_count": null,
      "outputs": [
        {
          "output_type": "execute_result",
          "data": {
            "text/plain": [
              "[5.122182272644483,\n",
              " 4.447537720423514,\n",
              " 4.571564292544968,\n",
              " 4.757793722778663,\n",
              " 4.407750776146736,\n",
              " 5.25304543567607,\n",
              " 4.791077166538017,\n",
              " 5.280203333262013,\n",
              " 5.214844739218292,\n",
              " 4.724843565162283,\n",
              " 4.64449140513466,\n",
              " 4.628420613577652,\n",
              " 5.031265331659849,\n",
              " 4.713168835228938,\n",
              " 4.601852776133328,\n",
              " 5.040382829032596,\n",
              " 5.068533464824289,\n",
              " 4.474498553124199,\n",
              " 4.977932596161168,\n",
              " 4.945832322115289,\n",
              " 5.412836078037884,\n",
              " 4.699565738659724,\n",
              " 4.9849249680267445,\n",
              " 5.0895581990639185,\n",
              " 4.3195356625308605,\n",
              " 4.752290090341223,\n",
              " 5.3497486234046026,\n",
              " 4.679539985394135,\n",
              " 4.665655966257826,\n",
              " 5.347708671658515,\n",
              " 5.011773658100021,\n",
              " 5.014561378220394,\n",
              " 4.633046112365175,\n",
              " 4.893410481007041,\n",
              " 5.141236905365562,\n",
              " 4.787150792959695,\n",
              " 5.0168501381712485,\n",
              " 4.925658642902526,\n",
              " 4.771300584312256,\n",
              " 4.8612724103923854,\n",
              " 5.0285245731097525,\n",
              " 5.13014660972425,\n",
              " 4.9234436846372285,\n",
              " 5.179411796816364,\n",
              " 5.222757448059395,\n",
              " 5.440475656762136,\n",
              " 4.424561104362594,\n",
              " 4.861768494797677,\n",
              " 5.059390416209747,\n",
              " 4.574981702349922,\n",
              " 4.915748406647145,\n",
              " 5.185818674205338,\n",
              " 5.26710635567354,\n",
              " 4.896457070449136,\n",
              " 4.8820032682443255,\n",
              " 4.683872604603557,\n",
              " 5.1185093457264434,\n",
              " 4.809162874821878,\n",
              " 5.751764279763753,\n",
              " 5.015549097465134,\n",
              " 4.9158027244710905,\n",
              " 5.0513824640932965,\n",
              " 4.75516173270711,\n",
              " 4.973257575737527,\n",
              " 4.881908016195832,\n",
              " 5.091360252863397,\n",
              " 4.745054867313902,\n",
              " 5.01407998123179,\n",
              " 5.328717131171275,\n",
              " 5.180883785021477,\n",
              " 5.299562318965265,\n",
              " 4.785308006573812,\n",
              " 5.369276758657643,\n",
              " 4.450683297338993,\n",
              " 5.083777025984121,\n",
              " 4.942504988215882,\n",
              " 4.4548141126870515,\n",
              " 4.8680137623805475,\n",
              " 5.193031522515799,\n",
              " 4.666838505221131,\n",
              " 4.9790078717178785,\n",
              " 4.9414506610142634,\n",
              " 4.4433985172141455,\n",
              " 5.334951215806559,\n",
              " 5.266329310187937,\n",
              " 5.276704148707514,\n",
              " 5.260562628937605,\n",
              " 5.042742579148564,\n",
              " 5.0518915367320085,\n",
              " 4.52943870546827,\n",
              " 5.411953653004658,\n",
              " 5.464491538353245,\n",
              " 4.73422365329611,\n",
              " 4.596212648930348,\n",
              " 4.847559286900344,\n",
              " 5.1169150421303735,\n",
              " 4.8015835518600625,\n",
              " 4.7148207196774425,\n",
              " 4.814534518681382,\n",
              " 4.084048200707189]"
            ]
          },
          "metadata": {
            "tags": []
          },
          "execution_count": 59
        }
      ]
    },
    {
      "cell_type": "code",
      "metadata": {
        "id": "bCm9YtjVgggq",
        "outputId": "8ca263f3-1e9b-4afb-b891-5ebf162658e2",
        "colab": {
          "base_uri": "https://localhost:8080/"
        }
      },
      "source": [
        "np.sum(all_est) / len(all_est)"
      ],
      "execution_count": null,
      "outputs": [
        {
          "output_type": "execute_result",
          "data": {
            "text/plain": [
              "4.931905391208109"
            ]
          },
          "metadata": {
            "tags": []
          },
          "execution_count": 62
        }
      ]
    },
    {
      "cell_type": "code",
      "metadata": {
        "id": "z9hCKDW5giiz"
      },
      "source": [
        "mu = 5"
      ],
      "execution_count": null,
      "outputs": []
    },
    {
      "cell_type": "code",
      "metadata": {
        "id": "bdOe-X3Uhzm4"
      },
      "source": [
        "all_est2 = np.array(all_est)"
      ],
      "execution_count": null,
      "outputs": []
    },
    {
      "cell_type": "code",
      "metadata": {
        "id": "s0fqbTESh5JO",
        "outputId": "d6734223-4971-4f60-fddd-538441799cb2",
        "colab": {
          "base_uri": "https://localhost:8080/"
        }
      },
      "source": [
        "(all_est2 - 5).std()"
      ],
      "execution_count": null,
      "outputs": [
        {
          "output_type": "execute_result",
          "data": {
            "text/plain": [
              "0.29393945614718797"
            ]
          },
          "metadata": {
            "tags": []
          },
          "execution_count": 66
        }
      ]
    },
    {
      "cell_type": "code",
      "metadata": {
        "id": "smAc0fR5h67d",
        "outputId": "16913246-2a5c-42de-803d-46ecdc68adc1",
        "colab": {
          "base_uri": "https://localhost:8080/",
          "height": 419
        }
      },
      "source": [
        "df"
      ],
      "execution_count": null,
      "outputs": [
        {
          "output_type": "execute_result",
          "data": {
            "text/html": [
              "<div>\n",
              "<style scoped>\n",
              "    .dataframe tbody tr th:only-of-type {\n",
              "        vertical-align: middle;\n",
              "    }\n",
              "\n",
              "    .dataframe tbody tr th {\n",
              "        vertical-align: top;\n",
              "    }\n",
              "\n",
              "    .dataframe thead th {\n",
              "        text-align: right;\n",
              "    }\n",
              "</style>\n",
              "<table border=\"1\" class=\"dataframe\">\n",
              "  <thead>\n",
              "    <tr style=\"text-align: right;\">\n",
              "      <th></th>\n",
              "      <th>Name</th>\n",
              "      <th>Miles_per_Gallon</th>\n",
              "      <th>Cylinders</th>\n",
              "      <th>Displacement</th>\n",
              "      <th>Horsepower</th>\n",
              "      <th>Weight_in_lbs</th>\n",
              "      <th>Acceleration</th>\n",
              "      <th>Year</th>\n",
              "      <th>Origin</th>\n",
              "    </tr>\n",
              "  </thead>\n",
              "  <tbody>\n",
              "    <tr>\n",
              "      <th>0</th>\n",
              "      <td>chevrolet chevelle malibu</td>\n",
              "      <td>18.0</td>\n",
              "      <td>8</td>\n",
              "      <td>307.0</td>\n",
              "      <td>130.0</td>\n",
              "      <td>3504</td>\n",
              "      <td>12.0</td>\n",
              "      <td>1970-01-01</td>\n",
              "      <td>USA</td>\n",
              "    </tr>\n",
              "    <tr>\n",
              "      <th>1</th>\n",
              "      <td>buick skylark 320</td>\n",
              "      <td>15.0</td>\n",
              "      <td>8</td>\n",
              "      <td>350.0</td>\n",
              "      <td>165.0</td>\n",
              "      <td>3693</td>\n",
              "      <td>11.5</td>\n",
              "      <td>1970-01-01</td>\n",
              "      <td>USA</td>\n",
              "    </tr>\n",
              "    <tr>\n",
              "      <th>2</th>\n",
              "      <td>plymouth satellite</td>\n",
              "      <td>18.0</td>\n",
              "      <td>8</td>\n",
              "      <td>318.0</td>\n",
              "      <td>150.0</td>\n",
              "      <td>3436</td>\n",
              "      <td>11.0</td>\n",
              "      <td>1970-01-01</td>\n",
              "      <td>USA</td>\n",
              "    </tr>\n",
              "    <tr>\n",
              "      <th>3</th>\n",
              "      <td>amc rebel sst</td>\n",
              "      <td>16.0</td>\n",
              "      <td>8</td>\n",
              "      <td>304.0</td>\n",
              "      <td>150.0</td>\n",
              "      <td>3433</td>\n",
              "      <td>12.0</td>\n",
              "      <td>1970-01-01</td>\n",
              "      <td>USA</td>\n",
              "    </tr>\n",
              "    <tr>\n",
              "      <th>4</th>\n",
              "      <td>ford torino</td>\n",
              "      <td>17.0</td>\n",
              "      <td>8</td>\n",
              "      <td>302.0</td>\n",
              "      <td>140.0</td>\n",
              "      <td>3449</td>\n",
              "      <td>10.5</td>\n",
              "      <td>1970-01-01</td>\n",
              "      <td>USA</td>\n",
              "    </tr>\n",
              "    <tr>\n",
              "      <th>...</th>\n",
              "      <td>...</td>\n",
              "      <td>...</td>\n",
              "      <td>...</td>\n",
              "      <td>...</td>\n",
              "      <td>...</td>\n",
              "      <td>...</td>\n",
              "      <td>...</td>\n",
              "      <td>...</td>\n",
              "      <td>...</td>\n",
              "    </tr>\n",
              "    <tr>\n",
              "      <th>401</th>\n",
              "      <td>ford mustang gl</td>\n",
              "      <td>27.0</td>\n",
              "      <td>4</td>\n",
              "      <td>140.0</td>\n",
              "      <td>86.0</td>\n",
              "      <td>2790</td>\n",
              "      <td>15.6</td>\n",
              "      <td>1982-01-01</td>\n",
              "      <td>USA</td>\n",
              "    </tr>\n",
              "    <tr>\n",
              "      <th>402</th>\n",
              "      <td>vw pickup</td>\n",
              "      <td>44.0</td>\n",
              "      <td>4</td>\n",
              "      <td>97.0</td>\n",
              "      <td>52.0</td>\n",
              "      <td>2130</td>\n",
              "      <td>24.6</td>\n",
              "      <td>1982-01-01</td>\n",
              "      <td>Europe</td>\n",
              "    </tr>\n",
              "    <tr>\n",
              "      <th>403</th>\n",
              "      <td>dodge rampage</td>\n",
              "      <td>32.0</td>\n",
              "      <td>4</td>\n",
              "      <td>135.0</td>\n",
              "      <td>84.0</td>\n",
              "      <td>2295</td>\n",
              "      <td>11.6</td>\n",
              "      <td>1982-01-01</td>\n",
              "      <td>USA</td>\n",
              "    </tr>\n",
              "    <tr>\n",
              "      <th>404</th>\n",
              "      <td>ford ranger</td>\n",
              "      <td>28.0</td>\n",
              "      <td>4</td>\n",
              "      <td>120.0</td>\n",
              "      <td>79.0</td>\n",
              "      <td>2625</td>\n",
              "      <td>18.6</td>\n",
              "      <td>1982-01-01</td>\n",
              "      <td>USA</td>\n",
              "    </tr>\n",
              "    <tr>\n",
              "      <th>405</th>\n",
              "      <td>chevy s-10</td>\n",
              "      <td>31.0</td>\n",
              "      <td>4</td>\n",
              "      <td>119.0</td>\n",
              "      <td>82.0</td>\n",
              "      <td>2720</td>\n",
              "      <td>19.4</td>\n",
              "      <td>1982-01-01</td>\n",
              "      <td>USA</td>\n",
              "    </tr>\n",
              "  </tbody>\n",
              "</table>\n",
              "<p>406 rows × 9 columns</p>\n",
              "</div>"
            ],
            "text/plain": [
              "                          Name  Miles_per_Gallon  ...       Year  Origin\n",
              "0    chevrolet chevelle malibu              18.0  ... 1970-01-01     USA\n",
              "1            buick skylark 320              15.0  ... 1970-01-01     USA\n",
              "2           plymouth satellite              18.0  ... 1970-01-01     USA\n",
              "3                amc rebel sst              16.0  ... 1970-01-01     USA\n",
              "4                  ford torino              17.0  ... 1970-01-01     USA\n",
              "..                         ...               ...  ...        ...     ...\n",
              "401            ford mustang gl              27.0  ... 1982-01-01     USA\n",
              "402                  vw pickup              44.0  ... 1982-01-01  Europe\n",
              "403              dodge rampage              32.0  ... 1982-01-01     USA\n",
              "404                ford ranger              28.0  ... 1982-01-01     USA\n",
              "405                 chevy s-10              31.0  ... 1982-01-01     USA\n",
              "\n",
              "[406 rows x 9 columns]"
            ]
          },
          "metadata": {
            "tags": []
          },
          "execution_count": 67
        }
      ]
    },
    {
      "cell_type": "code",
      "metadata": {
        "id": "2QVF-IbcysLX"
      },
      "source": [
        "X = df['Cylinders']\n",
        "Y = df['Acceleration']"
      ],
      "execution_count": null,
      "outputs": []
    },
    {
      "cell_type": "code",
      "metadata": {
        "id": "Sw3dPgl9y3eS"
      },
      "source": [
        "X_bar = X.mean()"
      ],
      "execution_count": null,
      "outputs": []
    },
    {
      "cell_type": "code",
      "metadata": {
        "id": "hJ7JSet_y8kA"
      },
      "source": [
        "Y_bar = Y.mean()"
      ],
      "execution_count": null,
      "outputs": []
    },
    {
      "cell_type": "code",
      "metadata": {
        "id": "0VKPnZ2Oy-J8",
        "outputId": "d9f772bf-0abf-47f1-cc6d-4226556d9431",
        "colab": {
          "base_uri": "https://localhost:8080/"
        }
      },
      "source": [
        "((X-X_bar) * (Y-Y_bar)).sum()"
      ],
      "execution_count": null,
      "outputs": [
        {
          "output_type": "execute_result",
          "data": {
            "text/plain": [
              "-1015.6029556650246"
            ]
          },
          "metadata": {
            "tags": []
          },
          "execution_count": 73
        }
      ]
    },
    {
      "cell_type": "code",
      "metadata": {
        "id": "iA3TembozB1F",
        "outputId": "bc2a9fc3-a118-4b45-bd89-3efcd5d48e31",
        "colab": {
          "base_uri": "https://localhost:8080/"
        }
      },
      "source": [
        "((X-X_bar)**2).sum()"
      ],
      "execution_count": null,
      "outputs": [
        {
          "output_type": "execute_result",
          "data": {
            "text/plain": [
              "1187.2536945812808"
            ]
          },
          "metadata": {
            "tags": []
          },
          "execution_count": 74
        }
      ]
    },
    {
      "cell_type": "code",
      "metadata": {
        "id": "ziAMqCgnzMsa"
      },
      "source": [
        "beta_1_hat = ((X-X_bar) * (Y-Y_bar)).sum() / ((X-X_bar)**2).sum()"
      ],
      "execution_count": null,
      "outputs": []
    },
    {
      "cell_type": "code",
      "metadata": {
        "id": "mn_TgvhFzQ0P",
        "outputId": "95086c97-ee1d-41d4-c97c-9181ba6e9739",
        "colab": {
          "base_uri": "https://localhost:8080/"
        }
      },
      "source": [
        "beta_1_hat"
      ],
      "execution_count": null,
      "outputs": [
        {
          "output_type": "execute_result",
          "data": {
            "text/plain": [
              "-0.8554220216793734"
            ]
          },
          "metadata": {
            "tags": []
          },
          "execution_count": 77
        }
      ]
    },
    {
      "cell_type": "code",
      "metadata": {
        "id": "2-DRH59czSro"
      },
      "source": [
        "beta_0_hat = Y_bar - beta_1_hat * X_bar"
      ],
      "execution_count": null,
      "outputs": []
    },
    {
      "cell_type": "code",
      "metadata": {
        "id": "z02MFjV1zZoW",
        "outputId": "90e3c158-b3e6-477a-83e2-8aeb149ed2ea",
        "colab": {
          "base_uri": "https://localhost:8080/"
        }
      },
      "source": [
        "beta_0_hat"
      ],
      "execution_count": null,
      "outputs": [
        {
          "output_type": "execute_result",
          "data": {
            "text/plain": [
              "20.203456044810938"
            ]
          },
          "metadata": {
            "tags": []
          },
          "execution_count": 81
        }
      ]
    },
    {
      "cell_type": "code",
      "metadata": {
        "id": "TP8MpoegzfeM"
      },
      "source": [
        "import statsmodels.formula.api as sm"
      ],
      "execution_count": null,
      "outputs": []
    },
    {
      "cell_type": "code",
      "metadata": {
        "id": "4q3T0txfziKe"
      },
      "source": [
        "results = sm.ols(formula = 'Acceleration ~ Cylinders', data = df).fit()"
      ],
      "execution_count": null,
      "outputs": []
    },
    {
      "cell_type": "code",
      "metadata": {
        "id": "LBmdeK-8zuXu",
        "outputId": "66468721-f813-40ff-9c78-63ae70f4f34c",
        "colab": {
          "base_uri": "https://localhost:8080/"
        }
      },
      "source": [
        "print(results.summary())"
      ],
      "execution_count": null,
      "outputs": [
        {
          "output_type": "stream",
          "text": [
            "                            OLS Regression Results                            \n",
            "==============================================================================\n",
            "Dep. Variable:           Acceleration   R-squared:                       0.273\n",
            "Model:                            OLS   Adj. R-squared:                  0.271\n",
            "Method:                 Least Squares   F-statistic:                     151.7\n",
            "Date:                Mon, 09 Nov 2020   Prob (F-statistic):           8.18e-30\n",
            "Time:                        07:01:26   Log-Likelihood:                -929.39\n",
            "No. Observations:                 406   AIC:                             1863.\n",
            "Df Residuals:                     404   BIC:                             1871.\n",
            "Df Model:                           1                                         \n",
            "Covariance Type:            nonrobust                                         \n",
            "==============================================================================\n",
            "                 coef    std err          t      P>|t|      [0.025      0.975]\n",
            "------------------------------------------------------------------------------\n",
            "Intercept     20.2035      0.398     50.708      0.000      19.420      20.987\n",
            "Cylinders     -0.8554      0.069    -12.316      0.000      -0.992      -0.719\n",
            "==============================================================================\n",
            "Omnibus:                       24.490   Durbin-Watson:                   1.427\n",
            "Prob(Omnibus):                  0.000   Jarque-Bera (JB):               27.743\n",
            "Skew:                           0.574   Prob(JB):                     9.46e-07\n",
            "Kurtosis:                       3.567   Cond. No.                         19.8\n",
            "==============================================================================\n",
            "\n",
            "Warnings:\n",
            "[1] Standard Errors assume that the covariance matrix of the errors is correctly specified.\n"
          ],
          "name": "stdout"
        }
      ]
    },
    {
      "cell_type": "code",
      "metadata": {
        "id": "pgbykmlazztv",
        "outputId": "2553758c-cb09-4ac8-9f39-5ec800ba0f59",
        "colab": {
          "base_uri": "https://localhost:8080/"
        }
      },
      "source": [
        "beta_0_hat, beta_1_hat"
      ],
      "execution_count": null,
      "outputs": [
        {
          "output_type": "execute_result",
          "data": {
            "text/plain": [
              "(20.203456044810938, -0.8554220216793734)"
            ]
          },
          "metadata": {
            "tags": []
          },
          "execution_count": 86
        }
      ]
    },
    {
      "cell_type": "code",
      "metadata": {
        "id": "cojbiJ_n0CTw",
        "outputId": "cf9faa6b-81c2-4530-ad8f-3d24193da760",
        "colab": {
          "base_uri": "https://localhost:8080/"
        }
      },
      "source": [
        "df.columns"
      ],
      "execution_count": null,
      "outputs": [
        {
          "output_type": "execute_result",
          "data": {
            "text/plain": [
              "Index(['Name', 'Miles_per_Gallon', 'Cylinders', 'Displacement', 'Horsepower',\n",
              "       'Weight_in_lbs', 'Acceleration', 'Year', 'Origin'],\n",
              "      dtype='object')"
            ]
          },
          "metadata": {
            "tags": []
          },
          "execution_count": 87
        }
      ]
    },
    {
      "cell_type": "code",
      "metadata": {
        "id": "GzBPfXwl4GRK"
      },
      "source": [
        "SST = ((Y - Y_bar)**2).sum()"
      ],
      "execution_count": null,
      "outputs": []
    },
    {
      "cell_type": "code",
      "metadata": {
        "id": "6dLqercP5J0G",
        "outputId": "30261c4f-c73a-4e61-902a-0870b7d0ee67",
        "colab": {
          "base_uri": "https://localhost:8080/"
        }
      },
      "source": [
        "SST"
      ],
      "execution_count": null,
      "outputs": [
        {
          "output_type": "execute_result",
          "data": {
            "text/plain": [
              "3182.82236453202"
            ]
          },
          "metadata": {
            "tags": []
          },
          "execution_count": 91
        }
      ]
    },
    {
      "cell_type": "code",
      "metadata": {
        "id": "2lEOsh6f5SB3"
      },
      "source": [
        "SSE = ((beta_0_hat + beta_1_hat * X - Y_bar)**2).sum()"
      ],
      "execution_count": null,
      "outputs": []
    },
    {
      "cell_type": "code",
      "metadata": {
        "id": "Gq-DKHrt5Y8m",
        "outputId": "a4bf753c-05ad-4873-cf0c-b10a88947381",
        "colab": {
          "base_uri": "https://localhost:8080/"
        }
      },
      "source": [
        "SSE"
      ],
      "execution_count": null,
      "outputs": [
        {
          "output_type": "execute_result",
          "data": {
            "text/plain": [
              "868.7691335585214"
            ]
          },
          "metadata": {
            "tags": []
          },
          "execution_count": 96
        }
      ]
    },
    {
      "cell_type": "code",
      "metadata": {
        "id": "xX7Ip6DN5kH4"
      },
      "source": [
        "SSR = ((Y - (beta_0_hat + beta_1_hat * X ))**2).sum()"
      ],
      "execution_count": null,
      "outputs": []
    },
    {
      "cell_type": "code",
      "metadata": {
        "id": "wuhVVoCg5vlF",
        "outputId": "ca342e2c-5601-48f9-adf6-08698f1bb2b6",
        "colab": {
          "base_uri": "https://localhost:8080/"
        }
      },
      "source": [
        "SSR"
      ],
      "execution_count": null,
      "outputs": [
        {
          "output_type": "execute_result",
          "data": {
            "text/plain": [
              "2314.053230973497"
            ]
          },
          "metadata": {
            "tags": []
          },
          "execution_count": 101
        }
      ]
    },
    {
      "cell_type": "code",
      "metadata": {
        "id": "PxtiP4rP5yfD"
      },
      "source": [
        "R_sq = SSE/SST"
      ],
      "execution_count": null,
      "outputs": []
    },
    {
      "cell_type": "code",
      "metadata": {
        "id": "fHboCgBX6IqA",
        "outputId": "00c724bb-e1e6-4ccc-b853-442d40e15792",
        "colab": {
          "base_uri": "https://localhost:8080/"
        }
      },
      "source": [
        "R_sq"
      ],
      "execution_count": null,
      "outputs": [
        {
          "output_type": "execute_result",
          "data": {
            "text/plain": [
              "0.2729555828310447"
            ]
          },
          "metadata": {
            "tags": []
          },
          "execution_count": 103
        }
      ]
    },
    {
      "cell_type": "code",
      "metadata": {
        "id": "KYg_kCWe6J8z",
        "outputId": "016f8a8b-1441-420c-edf0-767ac6856ff5",
        "colab": {
          "base_uri": "https://localhost:8080/"
        }
      },
      "source": [
        "print(results.summary())"
      ],
      "execution_count": null,
      "outputs": [
        {
          "output_type": "stream",
          "text": [
            "                            OLS Regression Results                            \n",
            "==============================================================================\n",
            "Dep. Variable:           Acceleration   R-squared:                       0.273\n",
            "Model:                            OLS   Adj. R-squared:                  0.271\n",
            "Method:                 Least Squares   F-statistic:                     151.7\n",
            "Date:                Mon, 09 Nov 2020   Prob (F-statistic):           8.18e-30\n",
            "Time:                        07:29:39   Log-Likelihood:                -929.39\n",
            "No. Observations:                 406   AIC:                             1863.\n",
            "Df Residuals:                     404   BIC:                             1871.\n",
            "Df Model:                           1                                         \n",
            "Covariance Type:            nonrobust                                         \n",
            "==============================================================================\n",
            "                 coef    std err          t      P>|t|      [0.025      0.975]\n",
            "------------------------------------------------------------------------------\n",
            "Intercept     20.2035      0.398     50.708      0.000      19.420      20.987\n",
            "Cylinders     -0.8554      0.069    -12.316      0.000      -0.992      -0.719\n",
            "==============================================================================\n",
            "Omnibus:                       24.490   Durbin-Watson:                   1.427\n",
            "Prob(Omnibus):                  0.000   Jarque-Bera (JB):               27.743\n",
            "Skew:                           0.574   Prob(JB):                     9.46e-07\n",
            "Kurtosis:                       3.567   Cond. No.                         19.8\n",
            "==============================================================================\n",
            "\n",
            "Warnings:\n",
            "[1] Standard Errors assume that the covariance matrix of the errors is correctly specified.\n"
          ],
          "name": "stdout"
        }
      ]
    },
    {
      "cell_type": "code",
      "metadata": {
        "id": "0VtrGyWv6MMO",
        "outputId": "a74ec706-6cef-4125-f440-6bd711b4edc1",
        "colab": {
          "base_uri": "https://localhost:8080/",
          "height": 359
        }
      },
      "source": [
        "df.head(10)"
      ],
      "execution_count": null,
      "outputs": [
        {
          "output_type": "execute_result",
          "data": {
            "text/html": [
              "<div>\n",
              "<style scoped>\n",
              "    .dataframe tbody tr th:only-of-type {\n",
              "        vertical-align: middle;\n",
              "    }\n",
              "\n",
              "    .dataframe tbody tr th {\n",
              "        vertical-align: top;\n",
              "    }\n",
              "\n",
              "    .dataframe thead th {\n",
              "        text-align: right;\n",
              "    }\n",
              "</style>\n",
              "<table border=\"1\" class=\"dataframe\">\n",
              "  <thead>\n",
              "    <tr style=\"text-align: right;\">\n",
              "      <th></th>\n",
              "      <th>Name</th>\n",
              "      <th>Miles_per_Gallon</th>\n",
              "      <th>Cylinders</th>\n",
              "      <th>Displacement</th>\n",
              "      <th>Horsepower</th>\n",
              "      <th>Weight_in_lbs</th>\n",
              "      <th>Acceleration</th>\n",
              "      <th>Year</th>\n",
              "      <th>Origin</th>\n",
              "    </tr>\n",
              "  </thead>\n",
              "  <tbody>\n",
              "    <tr>\n",
              "      <th>0</th>\n",
              "      <td>chevrolet chevelle malibu</td>\n",
              "      <td>18.0</td>\n",
              "      <td>8</td>\n",
              "      <td>307.0</td>\n",
              "      <td>130.0</td>\n",
              "      <td>3504</td>\n",
              "      <td>12.0</td>\n",
              "      <td>1970-01-01</td>\n",
              "      <td>USA</td>\n",
              "    </tr>\n",
              "    <tr>\n",
              "      <th>1</th>\n",
              "      <td>buick skylark 320</td>\n",
              "      <td>15.0</td>\n",
              "      <td>8</td>\n",
              "      <td>350.0</td>\n",
              "      <td>165.0</td>\n",
              "      <td>3693</td>\n",
              "      <td>11.5</td>\n",
              "      <td>1970-01-01</td>\n",
              "      <td>USA</td>\n",
              "    </tr>\n",
              "    <tr>\n",
              "      <th>2</th>\n",
              "      <td>plymouth satellite</td>\n",
              "      <td>18.0</td>\n",
              "      <td>8</td>\n",
              "      <td>318.0</td>\n",
              "      <td>150.0</td>\n",
              "      <td>3436</td>\n",
              "      <td>11.0</td>\n",
              "      <td>1970-01-01</td>\n",
              "      <td>USA</td>\n",
              "    </tr>\n",
              "    <tr>\n",
              "      <th>3</th>\n",
              "      <td>amc rebel sst</td>\n",
              "      <td>16.0</td>\n",
              "      <td>8</td>\n",
              "      <td>304.0</td>\n",
              "      <td>150.0</td>\n",
              "      <td>3433</td>\n",
              "      <td>12.0</td>\n",
              "      <td>1970-01-01</td>\n",
              "      <td>USA</td>\n",
              "    </tr>\n",
              "    <tr>\n",
              "      <th>4</th>\n",
              "      <td>ford torino</td>\n",
              "      <td>17.0</td>\n",
              "      <td>8</td>\n",
              "      <td>302.0</td>\n",
              "      <td>140.0</td>\n",
              "      <td>3449</td>\n",
              "      <td>10.5</td>\n",
              "      <td>1970-01-01</td>\n",
              "      <td>USA</td>\n",
              "    </tr>\n",
              "    <tr>\n",
              "      <th>5</th>\n",
              "      <td>ford galaxie 500</td>\n",
              "      <td>15.0</td>\n",
              "      <td>8</td>\n",
              "      <td>429.0</td>\n",
              "      <td>198.0</td>\n",
              "      <td>4341</td>\n",
              "      <td>10.0</td>\n",
              "      <td>1970-01-01</td>\n",
              "      <td>USA</td>\n",
              "    </tr>\n",
              "    <tr>\n",
              "      <th>6</th>\n",
              "      <td>chevrolet impala</td>\n",
              "      <td>14.0</td>\n",
              "      <td>8</td>\n",
              "      <td>454.0</td>\n",
              "      <td>220.0</td>\n",
              "      <td>4354</td>\n",
              "      <td>9.0</td>\n",
              "      <td>1970-01-01</td>\n",
              "      <td>USA</td>\n",
              "    </tr>\n",
              "    <tr>\n",
              "      <th>7</th>\n",
              "      <td>plymouth fury iii</td>\n",
              "      <td>14.0</td>\n",
              "      <td>8</td>\n",
              "      <td>440.0</td>\n",
              "      <td>215.0</td>\n",
              "      <td>4312</td>\n",
              "      <td>8.5</td>\n",
              "      <td>1970-01-01</td>\n",
              "      <td>USA</td>\n",
              "    </tr>\n",
              "    <tr>\n",
              "      <th>8</th>\n",
              "      <td>pontiac catalina</td>\n",
              "      <td>14.0</td>\n",
              "      <td>8</td>\n",
              "      <td>455.0</td>\n",
              "      <td>225.0</td>\n",
              "      <td>4425</td>\n",
              "      <td>10.0</td>\n",
              "      <td>1970-01-01</td>\n",
              "      <td>USA</td>\n",
              "    </tr>\n",
              "    <tr>\n",
              "      <th>9</th>\n",
              "      <td>amc ambassador dpl</td>\n",
              "      <td>15.0</td>\n",
              "      <td>8</td>\n",
              "      <td>390.0</td>\n",
              "      <td>190.0</td>\n",
              "      <td>3850</td>\n",
              "      <td>8.5</td>\n",
              "      <td>1970-01-01</td>\n",
              "      <td>USA</td>\n",
              "    </tr>\n",
              "  </tbody>\n",
              "</table>\n",
              "</div>"
            ],
            "text/plain": [
              "                        Name  Miles_per_Gallon  ...       Year  Origin\n",
              "0  chevrolet chevelle malibu              18.0  ... 1970-01-01     USA\n",
              "1          buick skylark 320              15.0  ... 1970-01-01     USA\n",
              "2         plymouth satellite              18.0  ... 1970-01-01     USA\n",
              "3              amc rebel sst              16.0  ... 1970-01-01     USA\n",
              "4                ford torino              17.0  ... 1970-01-01     USA\n",
              "5           ford galaxie 500              15.0  ... 1970-01-01     USA\n",
              "6           chevrolet impala              14.0  ... 1970-01-01     USA\n",
              "7          plymouth fury iii              14.0  ... 1970-01-01     USA\n",
              "8           pontiac catalina              14.0  ... 1970-01-01     USA\n",
              "9         amc ambassador dpl              15.0  ... 1970-01-01     USA\n",
              "\n",
              "[10 rows x 9 columns]"
            ]
          },
          "metadata": {
            "tags": []
          },
          "execution_count": 106
        }
      ]
    },
    {
      "cell_type": "code",
      "metadata": {
        "id": "XqNb2o6a7ZSD",
        "outputId": "b925ed0e-bc5e-4dd0-eb01-4efe515c778b",
        "colab": {
          "base_uri": "https://localhost:8080/",
          "height": 419
        }
      },
      "source": [
        "df.loc[:,['Cylinders','Weight_in_lbs']]"
      ],
      "execution_count": null,
      "outputs": [
        {
          "output_type": "execute_result",
          "data": {
            "text/html": [
              "<div>\n",
              "<style scoped>\n",
              "    .dataframe tbody tr th:only-of-type {\n",
              "        vertical-align: middle;\n",
              "    }\n",
              "\n",
              "    .dataframe tbody tr th {\n",
              "        vertical-align: top;\n",
              "    }\n",
              "\n",
              "    .dataframe thead th {\n",
              "        text-align: right;\n",
              "    }\n",
              "</style>\n",
              "<table border=\"1\" class=\"dataframe\">\n",
              "  <thead>\n",
              "    <tr style=\"text-align: right;\">\n",
              "      <th></th>\n",
              "      <th>Cylinders</th>\n",
              "      <th>Weight_in_lbs</th>\n",
              "    </tr>\n",
              "  </thead>\n",
              "  <tbody>\n",
              "    <tr>\n",
              "      <th>0</th>\n",
              "      <td>8</td>\n",
              "      <td>3504</td>\n",
              "    </tr>\n",
              "    <tr>\n",
              "      <th>1</th>\n",
              "      <td>8</td>\n",
              "      <td>3693</td>\n",
              "    </tr>\n",
              "    <tr>\n",
              "      <th>2</th>\n",
              "      <td>8</td>\n",
              "      <td>3436</td>\n",
              "    </tr>\n",
              "    <tr>\n",
              "      <th>3</th>\n",
              "      <td>8</td>\n",
              "      <td>3433</td>\n",
              "    </tr>\n",
              "    <tr>\n",
              "      <th>4</th>\n",
              "      <td>8</td>\n",
              "      <td>3449</td>\n",
              "    </tr>\n",
              "    <tr>\n",
              "      <th>...</th>\n",
              "      <td>...</td>\n",
              "      <td>...</td>\n",
              "    </tr>\n",
              "    <tr>\n",
              "      <th>401</th>\n",
              "      <td>4</td>\n",
              "      <td>2790</td>\n",
              "    </tr>\n",
              "    <tr>\n",
              "      <th>402</th>\n",
              "      <td>4</td>\n",
              "      <td>2130</td>\n",
              "    </tr>\n",
              "    <tr>\n",
              "      <th>403</th>\n",
              "      <td>4</td>\n",
              "      <td>2295</td>\n",
              "    </tr>\n",
              "    <tr>\n",
              "      <th>404</th>\n",
              "      <td>4</td>\n",
              "      <td>2625</td>\n",
              "    </tr>\n",
              "    <tr>\n",
              "      <th>405</th>\n",
              "      <td>4</td>\n",
              "      <td>2720</td>\n",
              "    </tr>\n",
              "  </tbody>\n",
              "</table>\n",
              "<p>406 rows × 2 columns</p>\n",
              "</div>"
            ],
            "text/plain": [
              "     Cylinders  Weight_in_lbs\n",
              "0            8           3504\n",
              "1            8           3693\n",
              "2            8           3436\n",
              "3            8           3433\n",
              "4            8           3449\n",
              "..         ...            ...\n",
              "401          4           2790\n",
              "402          4           2130\n",
              "403          4           2295\n",
              "404          4           2625\n",
              "405          4           2720\n",
              "\n",
              "[406 rows x 2 columns]"
            ]
          },
          "metadata": {
            "tags": []
          },
          "execution_count": 107
        }
      ]
    },
    {
      "cell_type": "code",
      "metadata": {
        "id": "e0POCROi7h0M"
      },
      "source": [
        "df['one'] = 1"
      ],
      "execution_count": null,
      "outputs": []
    },
    {
      "cell_type": "code",
      "metadata": {
        "id": "57Pv1xqq7s0g"
      },
      "source": [
        "X = df.loc[:,['one','Cylinders','Weight_in_lbs']].values"
      ],
      "execution_count": null,
      "outputs": []
    },
    {
      "cell_type": "code",
      "metadata": {
        "id": "xTibB9LC7wgo",
        "outputId": "6dd8881e-5942-4961-81bd-ca646fbf08ff",
        "colab": {
          "base_uri": "https://localhost:8080/"
        }
      },
      "source": [
        "X"
      ],
      "execution_count": null,
      "outputs": [
        {
          "output_type": "execute_result",
          "data": {
            "text/plain": [
              "array([[   1,    8, 3504],\n",
              "       [   1,    8, 3693],\n",
              "       [   1,    8, 3436],\n",
              "       ...,\n",
              "       [   1,    4, 2295],\n",
              "       [   1,    4, 2625],\n",
              "       [   1,    4, 2720]])"
            ]
          },
          "metadata": {
            "tags": []
          },
          "execution_count": 112
        }
      ]
    },
    {
      "cell_type": "code",
      "metadata": {
        "id": "Rigj7j7z7xvz"
      },
      "source": [
        "Y = df.loc[:,['Acceleration']].values"
      ],
      "execution_count": null,
      "outputs": []
    },
    {
      "cell_type": "code",
      "metadata": {
        "id": "GQcv4-0f8O3G",
        "outputId": "f65bfb0c-82cb-4815-e976-9dcbe38dae9f",
        "colab": {
          "base_uri": "https://localhost:8080/"
        }
      },
      "source": [
        "Y"
      ],
      "execution_count": null,
      "outputs": [
        {
          "output_type": "execute_result",
          "data": {
            "text/plain": [
              "array([[12. ],\n",
              "       [11.5],\n",
              "       [11. ],\n",
              "       [12. ],\n",
              "       [10.5],\n",
              "       [10. ],\n",
              "       [ 9. ],\n",
              "       [ 8.5],\n",
              "       [10. ],\n",
              "       [ 8.5],\n",
              "       [17.5],\n",
              "       [11.5],\n",
              "       [11. ],\n",
              "       [10.5],\n",
              "       [11. ],\n",
              "       [10. ],\n",
              "       [ 8. ],\n",
              "       [ 8. ],\n",
              "       [ 9.5],\n",
              "       [10. ],\n",
              "       [15. ],\n",
              "       [15.5],\n",
              "       [15.5],\n",
              "       [16. ],\n",
              "       [14.5],\n",
              "       [20.5],\n",
              "       [17.5],\n",
              "       [14.5],\n",
              "       [17.5],\n",
              "       [12.5],\n",
              "       [15. ],\n",
              "       [14. ],\n",
              "       [15. ],\n",
              "       [13.5],\n",
              "       [18.5],\n",
              "       [14.5],\n",
              "       [15.5],\n",
              "       [14. ],\n",
              "       [19. ],\n",
              "       [20. ],\n",
              "       [13. ],\n",
              "       [15.5],\n",
              "       [15.5],\n",
              "       [15.5],\n",
              "       [15.5],\n",
              "       [12. ],\n",
              "       [11.5],\n",
              "       [13.5],\n",
              "       [13. ],\n",
              "       [11.5],\n",
              "       [12. ],\n",
              "       [12. ],\n",
              "       [13.5],\n",
              "       [19. ],\n",
              "       [15. ],\n",
              "       [14.5],\n",
              "       [14. ],\n",
              "       [14. ],\n",
              "       [19.5],\n",
              "       [14.5],\n",
              "       [19. ],\n",
              "       [18. ],\n",
              "       [19. ],\n",
              "       [20.5],\n",
              "       [15.5],\n",
              "       [17. ],\n",
              "       [23.5],\n",
              "       [19.5],\n",
              "       [16.5],\n",
              "       [12. ],\n",
              "       [12. ],\n",
              "       [13.5],\n",
              "       [13. ],\n",
              "       [11.5],\n",
              "       [11. ],\n",
              "       [13.5],\n",
              "       [13.5],\n",
              "       [12.5],\n",
              "       [13.5],\n",
              "       [12.5],\n",
              "       [14. ],\n",
              "       [16. ],\n",
              "       [14. ],\n",
              "       [14.5],\n",
              "       [18. ],\n",
              "       [19.5],\n",
              "       [18. ],\n",
              "       [16. ],\n",
              "       [17. ],\n",
              "       [14.5],\n",
              "       [15. ],\n",
              "       [16.5],\n",
              "       [13. ],\n",
              "       [11.5],\n",
              "       [13. ],\n",
              "       [14.5],\n",
              "       [12.5],\n",
              "       [11.5],\n",
              "       [12. ],\n",
              "       [13. ],\n",
              "       [14.5],\n",
              "       [11. ],\n",
              "       [11. ],\n",
              "       [11. ],\n",
              "       [16.5],\n",
              "       [18. ],\n",
              "       [16. ],\n",
              "       [16.5],\n",
              "       [16. ],\n",
              "       [21. ],\n",
              "       [14. ],\n",
              "       [12.5],\n",
              "       [13. ],\n",
              "       [12.5],\n",
              "       [15. ],\n",
              "       [19. ],\n",
              "       [19.5],\n",
              "       [16.5],\n",
              "       [13.5],\n",
              "       [18.5],\n",
              "       [14. ],\n",
              "       [15.5],\n",
              "       [13. ],\n",
              "       [ 9.5],\n",
              "       [19.5],\n",
              "       [15.5],\n",
              "       [14. ],\n",
              "       [15.5],\n",
              "       [11. ],\n",
              "       [14. ],\n",
              "       [13.5],\n",
              "       [11. ],\n",
              "       [16.5],\n",
              "       [17. ],\n",
              "       [16. ],\n",
              "       [17. ],\n",
              "       [19. ],\n",
              "       [16.5],\n",
              "       [21. ],\n",
              "       [17. ],\n",
              "       [17. ],\n",
              "       [18. ],\n",
              "       [16.5],\n",
              "       [14. ],\n",
              "       [14.5],\n",
              "       [13.5],\n",
              "       [16. ],\n",
              "       [15.5],\n",
              "       [16.5],\n",
              "       [15.5],\n",
              "       [14.5],\n",
              "       [16.5],\n",
              "       [19. ],\n",
              "       [14.5],\n",
              "       [15.5],\n",
              "       [14. ],\n",
              "       [15. ],\n",
              "       [15.5],\n",
              "       [16. ],\n",
              "       [16. ],\n",
              "       [16. ],\n",
              "       [21. ],\n",
              "       [19.5],\n",
              "       [11.5],\n",
              "       [14. ],\n",
              "       [14.5],\n",
              "       [13.5],\n",
              "       [21. ],\n",
              "       [18.5],\n",
              "       [19. ],\n",
              "       [19. ],\n",
              "       [15. ],\n",
              "       [13.5],\n",
              "       [12. ],\n",
              "       [16. ],\n",
              "       [17. ],\n",
              "       [16. ],\n",
              "       [18.5],\n",
              "       [13.5],\n",
              "       [16.5],\n",
              "       [17. ],\n",
              "       [14.5],\n",
              "       [14. ],\n",
              "       [17. ],\n",
              "       [15. ],\n",
              "       [17. ],\n",
              "       [14.5],\n",
              "       [13.5],\n",
              "       [17.5],\n",
              "       [15.5],\n",
              "       [16.9],\n",
              "       [14.9],\n",
              "       [17.7],\n",
              "       [15.3],\n",
              "       [13. ],\n",
              "       [13. ],\n",
              "       [13.9],\n",
              "       [12.8],\n",
              "       [15.4],\n",
              "       [14.5],\n",
              "       [17.6],\n",
              "       [17.6],\n",
              "       [22.2],\n",
              "       [22.1],\n",
              "       [14.2],\n",
              "       [17.4],\n",
              "       [17.7],\n",
              "       [21. ],\n",
              "       [16.2],\n",
              "       [17.8],\n",
              "       [12.2],\n",
              "       [17. ],\n",
              "       [16.4],\n",
              "       [13.6],\n",
              "       [15.7],\n",
              "       [13.2],\n",
              "       [21.9],\n",
              "       [15.5],\n",
              "       [16.7],\n",
              "       [12.1],\n",
              "       [12. ],\n",
              "       [15. ],\n",
              "       [14. ],\n",
              "       [18.5],\n",
              "       [14.8],\n",
              "       [18.6],\n",
              "       [15.5],\n",
              "       [16.8],\n",
              "       [12.5],\n",
              "       [19. ],\n",
              "       [13.7],\n",
              "       [14.9],\n",
              "       [16.4],\n",
              "       [16.9],\n",
              "       [17.7],\n",
              "       [19. ],\n",
              "       [11.1],\n",
              "       [11.4],\n",
              "       [12.2],\n",
              "       [14.5],\n",
              "       [14.5],\n",
              "       [16. ],\n",
              "       [18.2],\n",
              "       [15.8],\n",
              "       [17. ],\n",
              "       [15.9],\n",
              "       [16.4],\n",
              "       [14.1],\n",
              "       [14.5],\n",
              "       [12.8],\n",
              "       [13.5],\n",
              "       [21.5],\n",
              "       [14.4],\n",
              "       [19.4],\n",
              "       [18.6],\n",
              "       [16.4],\n",
              "       [15.5],\n",
              "       [13.2],\n",
              "       [12.8],\n",
              "       [19.2],\n",
              "       [18.2],\n",
              "       [15.8],\n",
              "       [15.4],\n",
              "       [17.2],\n",
              "       [17.2],\n",
              "       [15.8],\n",
              "       [16.7],\n",
              "       [18.7],\n",
              "       [15.1],\n",
              "       [13.2],\n",
              "       [13.4],\n",
              "       [11.2],\n",
              "       [13.7],\n",
              "       [16.5],\n",
              "       [14.2],\n",
              "       [14.7],\n",
              "       [14.5],\n",
              "       [14.8],\n",
              "       [16.7],\n",
              "       [17.6],\n",
              "       [14.9],\n",
              "       [15.9],\n",
              "       [13.6],\n",
              "       [15.7],\n",
              "       [15.8],\n",
              "       [14.9],\n",
              "       [16.6],\n",
              "       [15.4],\n",
              "       [18.2],\n",
              "       [17.3],\n",
              "       [18.2],\n",
              "       [16.6],\n",
              "       [15.4],\n",
              "       [13.4],\n",
              "       [13.2],\n",
              "       [15.2],\n",
              "       [14.9],\n",
              "       [14.3],\n",
              "       [15. ],\n",
              "       [13. ],\n",
              "       [14. ],\n",
              "       [15.2],\n",
              "       [14.4],\n",
              "       [15. ],\n",
              "       [20.1],\n",
              "       [17.4],\n",
              "       [24.8],\n",
              "       [22.2],\n",
              "       [13.2],\n",
              "       [14.9],\n",
              "       [19.2],\n",
              "       [14.7],\n",
              "       [16. ],\n",
              "       [11.3],\n",
              "       [12.9],\n",
              "       [13.2],\n",
              "       [14.7],\n",
              "       [18.8],\n",
              "       [15.5],\n",
              "       [16.4],\n",
              "       [16.5],\n",
              "       [18.1],\n",
              "       [20.1],\n",
              "       [18.7],\n",
              "       [15.8],\n",
              "       [15.5],\n",
              "       [17.5],\n",
              "       [15. ],\n",
              "       [15.2],\n",
              "       [17.9],\n",
              "       [14.4],\n",
              "       [19.2],\n",
              "       [21.7],\n",
              "       [23.7],\n",
              "       [19.9],\n",
              "       [21.8],\n",
              "       [13.8],\n",
              "       [17.3],\n",
              "       [18. ],\n",
              "       [15.3],\n",
              "       [11.4],\n",
              "       [12.5],\n",
              "       [15.1],\n",
              "       [14.3],\n",
              "       [17. ],\n",
              "       [15.7],\n",
              "       [16.4],\n",
              "       [14.4],\n",
              "       [12.6],\n",
              "       [12.9],\n",
              "       [16.9],\n",
              "       [16.4],\n",
              "       [16.1],\n",
              "       [17.8],\n",
              "       [19.4],\n",
              "       [17.3],\n",
              "       [16. ],\n",
              "       [14.9],\n",
              "       [16.2],\n",
              "       [20.7],\n",
              "       [14.2],\n",
              "       [15.8],\n",
              "       [14.4],\n",
              "       [16.8],\n",
              "       [14.8],\n",
              "       [18.3],\n",
              "       [20.4],\n",
              "       [15.4],\n",
              "       [19.6],\n",
              "       [12.6],\n",
              "       [13.8],\n",
              "       [15.8],\n",
              "       [19. ],\n",
              "       [17.1],\n",
              "       [16.6],\n",
              "       [19.6],\n",
              "       [18.6],\n",
              "       [18. ],\n",
              "       [16.2],\n",
              "       [16. ],\n",
              "       [18. ],\n",
              "       [16.4],\n",
              "       [20.5],\n",
              "       [15.3],\n",
              "       [18.2],\n",
              "       [17.6],\n",
              "       [14.7],\n",
              "       [17.3],\n",
              "       [14.5],\n",
              "       [14.5],\n",
              "       [16.9],\n",
              "       [15. ],\n",
              "       [15.7],\n",
              "       [16.2],\n",
              "       [16.4],\n",
              "       [17. ],\n",
              "       [14.5],\n",
              "       [14.7],\n",
              "       [13.9],\n",
              "       [13. ],\n",
              "       [17.3],\n",
              "       [15.6],\n",
              "       [24.6],\n",
              "       [11.6],\n",
              "       [18.6],\n",
              "       [19.4]])"
            ]
          },
          "metadata": {
            "tags": []
          },
          "execution_count": 114
        }
      ]
    },
    {
      "cell_type": "code",
      "metadata": {
        "id": "C6rwDWKu8PlY",
        "outputId": "325b35a9-15f5-4f35-c9a6-18e9c06ba8a7",
        "colab": {
          "base_uri": "https://localhost:8080/"
        }
      },
      "source": [
        "np.linalg.inv(X.T.dot(X)).dot(X.T).dot(Y)"
      ],
      "execution_count": null,
      "outputs": [
        {
          "output_type": "execute_result",
          "data": {
            "text/plain": [
              "array([[ 1.98557056e+01],\n",
              "       [-1.13312935e+00],\n",
              "       [ 6.27069896e-04]])"
            ]
          },
          "metadata": {
            "tags": []
          },
          "execution_count": 119
        }
      ]
    },
    {
      "cell_type": "code",
      "metadata": {
        "id": "mXR9zpZQ8lHt",
        "outputId": "33685909-9d5c-4756-df86-3cd55126ae73",
        "colab": {
          "base_uri": "https://localhost:8080/",
          "height": 419
        }
      },
      "source": [
        "df[['Acceleration','Miles_per_Gallon']]"
      ],
      "execution_count": null,
      "outputs": [
        {
          "output_type": "execute_result",
          "data": {
            "text/html": [
              "<div>\n",
              "<style scoped>\n",
              "    .dataframe tbody tr th:only-of-type {\n",
              "        vertical-align: middle;\n",
              "    }\n",
              "\n",
              "    .dataframe tbody tr th {\n",
              "        vertical-align: top;\n",
              "    }\n",
              "\n",
              "    .dataframe thead th {\n",
              "        text-align: right;\n",
              "    }\n",
              "</style>\n",
              "<table border=\"1\" class=\"dataframe\">\n",
              "  <thead>\n",
              "    <tr style=\"text-align: right;\">\n",
              "      <th></th>\n",
              "      <th>Acceleration</th>\n",
              "      <th>Miles_per_Gallon</th>\n",
              "    </tr>\n",
              "  </thead>\n",
              "  <tbody>\n",
              "    <tr>\n",
              "      <th>0</th>\n",
              "      <td>12.0</td>\n",
              "      <td>18.0</td>\n",
              "    </tr>\n",
              "    <tr>\n",
              "      <th>1</th>\n",
              "      <td>11.5</td>\n",
              "      <td>15.0</td>\n",
              "    </tr>\n",
              "    <tr>\n",
              "      <th>2</th>\n",
              "      <td>11.0</td>\n",
              "      <td>18.0</td>\n",
              "    </tr>\n",
              "    <tr>\n",
              "      <th>3</th>\n",
              "      <td>12.0</td>\n",
              "      <td>16.0</td>\n",
              "    </tr>\n",
              "    <tr>\n",
              "      <th>4</th>\n",
              "      <td>10.5</td>\n",
              "      <td>17.0</td>\n",
              "    </tr>\n",
              "    <tr>\n",
              "      <th>...</th>\n",
              "      <td>...</td>\n",
              "      <td>...</td>\n",
              "    </tr>\n",
              "    <tr>\n",
              "      <th>401</th>\n",
              "      <td>15.6</td>\n",
              "      <td>27.0</td>\n",
              "    </tr>\n",
              "    <tr>\n",
              "      <th>402</th>\n",
              "      <td>24.6</td>\n",
              "      <td>44.0</td>\n",
              "    </tr>\n",
              "    <tr>\n",
              "      <th>403</th>\n",
              "      <td>11.6</td>\n",
              "      <td>32.0</td>\n",
              "    </tr>\n",
              "    <tr>\n",
              "      <th>404</th>\n",
              "      <td>18.6</td>\n",
              "      <td>28.0</td>\n",
              "    </tr>\n",
              "    <tr>\n",
              "      <th>405</th>\n",
              "      <td>19.4</td>\n",
              "      <td>31.0</td>\n",
              "    </tr>\n",
              "  </tbody>\n",
              "</table>\n",
              "<p>406 rows × 2 columns</p>\n",
              "</div>"
            ],
            "text/plain": [
              "     Acceleration  Miles_per_Gallon\n",
              "0            12.0              18.0\n",
              "1            11.5              15.0\n",
              "2            11.0              18.0\n",
              "3            12.0              16.0\n",
              "4            10.5              17.0\n",
              "..            ...               ...\n",
              "401          15.6              27.0\n",
              "402          24.6              44.0\n",
              "403          11.6              32.0\n",
              "404          18.6              28.0\n",
              "405          19.4              31.0\n",
              "\n",
              "[406 rows x 2 columns]"
            ]
          },
          "metadata": {
            "tags": []
          },
          "execution_count": 3
        }
      ]
    },
    {
      "cell_type": "code",
      "metadata": {
        "id": "tS1tum4ZqDc_",
        "outputId": "4870c13d-a36c-4c7c-eda0-f8fca9523297",
        "colab": {
          "base_uri": "https://localhost:8080/",
          "height": 419
        }
      },
      "source": [
        "df[(df['Cylinders'] >= 4) & (df['Weight_in_lbs'] > 3000)]"
      ],
      "execution_count": null,
      "outputs": [
        {
          "output_type": "execute_result",
          "data": {
            "text/html": [
              "<div>\n",
              "<style scoped>\n",
              "    .dataframe tbody tr th:only-of-type {\n",
              "        vertical-align: middle;\n",
              "    }\n",
              "\n",
              "    .dataframe tbody tr th {\n",
              "        vertical-align: top;\n",
              "    }\n",
              "\n",
              "    .dataframe thead th {\n",
              "        text-align: right;\n",
              "    }\n",
              "</style>\n",
              "<table border=\"1\" class=\"dataframe\">\n",
              "  <thead>\n",
              "    <tr style=\"text-align: right;\">\n",
              "      <th></th>\n",
              "      <th>Name</th>\n",
              "      <th>Miles_per_Gallon</th>\n",
              "      <th>Cylinders</th>\n",
              "      <th>Displacement</th>\n",
              "      <th>Horsepower</th>\n",
              "      <th>Weight_in_lbs</th>\n",
              "      <th>Acceleration</th>\n",
              "      <th>Year</th>\n",
              "      <th>Origin</th>\n",
              "    </tr>\n",
              "  </thead>\n",
              "  <tbody>\n",
              "    <tr>\n",
              "      <th>0</th>\n",
              "      <td>chevrolet chevelle malibu</td>\n",
              "      <td>18.0</td>\n",
              "      <td>8</td>\n",
              "      <td>307.0</td>\n",
              "      <td>130.0</td>\n",
              "      <td>3504</td>\n",
              "      <td>12.0</td>\n",
              "      <td>1970-01-01</td>\n",
              "      <td>USA</td>\n",
              "    </tr>\n",
              "    <tr>\n",
              "      <th>1</th>\n",
              "      <td>buick skylark 320</td>\n",
              "      <td>15.0</td>\n",
              "      <td>8</td>\n",
              "      <td>350.0</td>\n",
              "      <td>165.0</td>\n",
              "      <td>3693</td>\n",
              "      <td>11.5</td>\n",
              "      <td>1970-01-01</td>\n",
              "      <td>USA</td>\n",
              "    </tr>\n",
              "    <tr>\n",
              "      <th>2</th>\n",
              "      <td>plymouth satellite</td>\n",
              "      <td>18.0</td>\n",
              "      <td>8</td>\n",
              "      <td>318.0</td>\n",
              "      <td>150.0</td>\n",
              "      <td>3436</td>\n",
              "      <td>11.0</td>\n",
              "      <td>1970-01-01</td>\n",
              "      <td>USA</td>\n",
              "    </tr>\n",
              "    <tr>\n",
              "      <th>3</th>\n",
              "      <td>amc rebel sst</td>\n",
              "      <td>16.0</td>\n",
              "      <td>8</td>\n",
              "      <td>304.0</td>\n",
              "      <td>150.0</td>\n",
              "      <td>3433</td>\n",
              "      <td>12.0</td>\n",
              "      <td>1970-01-01</td>\n",
              "      <td>USA</td>\n",
              "    </tr>\n",
              "    <tr>\n",
              "      <th>4</th>\n",
              "      <td>ford torino</td>\n",
              "      <td>17.0</td>\n",
              "      <td>8</td>\n",
              "      <td>302.0</td>\n",
              "      <td>140.0</td>\n",
              "      <td>3449</td>\n",
              "      <td>10.5</td>\n",
              "      <td>1970-01-01</td>\n",
              "      <td>USA</td>\n",
              "    </tr>\n",
              "    <tr>\n",
              "      <th>...</th>\n",
              "      <td>...</td>\n",
              "      <td>...</td>\n",
              "      <td>...</td>\n",
              "      <td>...</td>\n",
              "      <td>...</td>\n",
              "      <td>...</td>\n",
              "      <td>...</td>\n",
              "      <td>...</td>\n",
              "      <td>...</td>\n",
              "    </tr>\n",
              "    <tr>\n",
              "      <th>372</th>\n",
              "      <td>oldsmobile cutlass ls</td>\n",
              "      <td>26.6</td>\n",
              "      <td>8</td>\n",
              "      <td>350.0</td>\n",
              "      <td>105.0</td>\n",
              "      <td>3725</td>\n",
              "      <td>19.0</td>\n",
              "      <td>1982-01-01</td>\n",
              "      <td>USA</td>\n",
              "    </tr>\n",
              "    <tr>\n",
              "      <th>373</th>\n",
              "      <td>ford granada gl</td>\n",
              "      <td>20.2</td>\n",
              "      <td>6</td>\n",
              "      <td>200.0</td>\n",
              "      <td>88.0</td>\n",
              "      <td>3060</td>\n",
              "      <td>17.1</td>\n",
              "      <td>1982-01-01</td>\n",
              "      <td>USA</td>\n",
              "    </tr>\n",
              "    <tr>\n",
              "      <th>374</th>\n",
              "      <td>chrysler lebaron salon</td>\n",
              "      <td>17.6</td>\n",
              "      <td>6</td>\n",
              "      <td>225.0</td>\n",
              "      <td>85.0</td>\n",
              "      <td>3465</td>\n",
              "      <td>16.6</td>\n",
              "      <td>1982-01-01</td>\n",
              "      <td>USA</td>\n",
              "    </tr>\n",
              "    <tr>\n",
              "      <th>382</th>\n",
              "      <td>amc concord dl</td>\n",
              "      <td>23.0</td>\n",
              "      <td>4</td>\n",
              "      <td>151.0</td>\n",
              "      <td>NaN</td>\n",
              "      <td>3035</td>\n",
              "      <td>20.5</td>\n",
              "      <td>1982-01-01</td>\n",
              "      <td>USA</td>\n",
              "    </tr>\n",
              "    <tr>\n",
              "      <th>395</th>\n",
              "      <td>oldsmobile cutlass ciera (diesel)</td>\n",
              "      <td>38.0</td>\n",
              "      <td>6</td>\n",
              "      <td>262.0</td>\n",
              "      <td>85.0</td>\n",
              "      <td>3015</td>\n",
              "      <td>17.0</td>\n",
              "      <td>1982-01-01</td>\n",
              "      <td>USA</td>\n",
              "    </tr>\n",
              "  </tbody>\n",
              "</table>\n",
              "<p>174 rows × 9 columns</p>\n",
              "</div>"
            ],
            "text/plain": [
              "                                  Name  Miles_per_Gallon  ...       Year  Origin\n",
              "0            chevrolet chevelle malibu              18.0  ... 1970-01-01     USA\n",
              "1                    buick skylark 320              15.0  ... 1970-01-01     USA\n",
              "2                   plymouth satellite              18.0  ... 1970-01-01     USA\n",
              "3                        amc rebel sst              16.0  ... 1970-01-01     USA\n",
              "4                          ford torino              17.0  ... 1970-01-01     USA\n",
              "..                                 ...               ...  ...        ...     ...\n",
              "372              oldsmobile cutlass ls              26.6  ... 1982-01-01     USA\n",
              "373                    ford granada gl              20.2  ... 1982-01-01     USA\n",
              "374             chrysler lebaron salon              17.6  ... 1982-01-01     USA\n",
              "382                     amc concord dl              23.0  ... 1982-01-01     USA\n",
              "395  oldsmobile cutlass ciera (diesel)              38.0  ... 1982-01-01     USA\n",
              "\n",
              "[174 rows x 9 columns]"
            ]
          },
          "metadata": {
            "tags": []
          },
          "execution_count": 6
        }
      ]
    },
    {
      "cell_type": "code",
      "metadata": {
        "id": "_jdPSWyhqO0q",
        "outputId": "50d8ca86-3bbb-4386-abca-beff2cbc42aa",
        "colab": {
          "base_uri": "https://localhost:8080/",
          "height": 419
        }
      },
      "source": [
        "df.iloc[:,:]"
      ],
      "execution_count": null,
      "outputs": [
        {
          "output_type": "execute_result",
          "data": {
            "text/html": [
              "<div>\n",
              "<style scoped>\n",
              "    .dataframe tbody tr th:only-of-type {\n",
              "        vertical-align: middle;\n",
              "    }\n",
              "\n",
              "    .dataframe tbody tr th {\n",
              "        vertical-align: top;\n",
              "    }\n",
              "\n",
              "    .dataframe thead th {\n",
              "        text-align: right;\n",
              "    }\n",
              "</style>\n",
              "<table border=\"1\" class=\"dataframe\">\n",
              "  <thead>\n",
              "    <tr style=\"text-align: right;\">\n",
              "      <th></th>\n",
              "      <th>Name</th>\n",
              "      <th>Miles_per_Gallon</th>\n",
              "      <th>Cylinders</th>\n",
              "      <th>Displacement</th>\n",
              "      <th>Horsepower</th>\n",
              "      <th>Weight_in_lbs</th>\n",
              "      <th>Acceleration</th>\n",
              "      <th>Year</th>\n",
              "      <th>Origin</th>\n",
              "    </tr>\n",
              "  </thead>\n",
              "  <tbody>\n",
              "    <tr>\n",
              "      <th>0</th>\n",
              "      <td>chevrolet chevelle malibu</td>\n",
              "      <td>18.0</td>\n",
              "      <td>8</td>\n",
              "      <td>307.0</td>\n",
              "      <td>130.0</td>\n",
              "      <td>3504</td>\n",
              "      <td>12.0</td>\n",
              "      <td>1970-01-01</td>\n",
              "      <td>USA</td>\n",
              "    </tr>\n",
              "    <tr>\n",
              "      <th>1</th>\n",
              "      <td>buick skylark 320</td>\n",
              "      <td>15.0</td>\n",
              "      <td>8</td>\n",
              "      <td>350.0</td>\n",
              "      <td>165.0</td>\n",
              "      <td>3693</td>\n",
              "      <td>11.5</td>\n",
              "      <td>1970-01-01</td>\n",
              "      <td>USA</td>\n",
              "    </tr>\n",
              "    <tr>\n",
              "      <th>2</th>\n",
              "      <td>plymouth satellite</td>\n",
              "      <td>18.0</td>\n",
              "      <td>8</td>\n",
              "      <td>318.0</td>\n",
              "      <td>150.0</td>\n",
              "      <td>3436</td>\n",
              "      <td>11.0</td>\n",
              "      <td>1970-01-01</td>\n",
              "      <td>USA</td>\n",
              "    </tr>\n",
              "    <tr>\n",
              "      <th>3</th>\n",
              "      <td>amc rebel sst</td>\n",
              "      <td>16.0</td>\n",
              "      <td>8</td>\n",
              "      <td>304.0</td>\n",
              "      <td>150.0</td>\n",
              "      <td>3433</td>\n",
              "      <td>12.0</td>\n",
              "      <td>1970-01-01</td>\n",
              "      <td>USA</td>\n",
              "    </tr>\n",
              "    <tr>\n",
              "      <th>4</th>\n",
              "      <td>ford torino</td>\n",
              "      <td>17.0</td>\n",
              "      <td>8</td>\n",
              "      <td>302.0</td>\n",
              "      <td>140.0</td>\n",
              "      <td>3449</td>\n",
              "      <td>10.5</td>\n",
              "      <td>1970-01-01</td>\n",
              "      <td>USA</td>\n",
              "    </tr>\n",
              "    <tr>\n",
              "      <th>...</th>\n",
              "      <td>...</td>\n",
              "      <td>...</td>\n",
              "      <td>...</td>\n",
              "      <td>...</td>\n",
              "      <td>...</td>\n",
              "      <td>...</td>\n",
              "      <td>...</td>\n",
              "      <td>...</td>\n",
              "      <td>...</td>\n",
              "    </tr>\n",
              "    <tr>\n",
              "      <th>401</th>\n",
              "      <td>ford mustang gl</td>\n",
              "      <td>27.0</td>\n",
              "      <td>4</td>\n",
              "      <td>140.0</td>\n",
              "      <td>86.0</td>\n",
              "      <td>2790</td>\n",
              "      <td>15.6</td>\n",
              "      <td>1982-01-01</td>\n",
              "      <td>USA</td>\n",
              "    </tr>\n",
              "    <tr>\n",
              "      <th>402</th>\n",
              "      <td>vw pickup</td>\n",
              "      <td>44.0</td>\n",
              "      <td>4</td>\n",
              "      <td>97.0</td>\n",
              "      <td>52.0</td>\n",
              "      <td>2130</td>\n",
              "      <td>24.6</td>\n",
              "      <td>1982-01-01</td>\n",
              "      <td>Europe</td>\n",
              "    </tr>\n",
              "    <tr>\n",
              "      <th>403</th>\n",
              "      <td>dodge rampage</td>\n",
              "      <td>32.0</td>\n",
              "      <td>4</td>\n",
              "      <td>135.0</td>\n",
              "      <td>84.0</td>\n",
              "      <td>2295</td>\n",
              "      <td>11.6</td>\n",
              "      <td>1982-01-01</td>\n",
              "      <td>USA</td>\n",
              "    </tr>\n",
              "    <tr>\n",
              "      <th>404</th>\n",
              "      <td>ford ranger</td>\n",
              "      <td>28.0</td>\n",
              "      <td>4</td>\n",
              "      <td>120.0</td>\n",
              "      <td>79.0</td>\n",
              "      <td>2625</td>\n",
              "      <td>18.6</td>\n",
              "      <td>1982-01-01</td>\n",
              "      <td>USA</td>\n",
              "    </tr>\n",
              "    <tr>\n",
              "      <th>405</th>\n",
              "      <td>chevy s-10</td>\n",
              "      <td>31.0</td>\n",
              "      <td>4</td>\n",
              "      <td>119.0</td>\n",
              "      <td>82.0</td>\n",
              "      <td>2720</td>\n",
              "      <td>19.4</td>\n",
              "      <td>1982-01-01</td>\n",
              "      <td>USA</td>\n",
              "    </tr>\n",
              "  </tbody>\n",
              "</table>\n",
              "<p>406 rows × 9 columns</p>\n",
              "</div>"
            ],
            "text/plain": [
              "                          Name  Miles_per_Gallon  ...       Year  Origin\n",
              "0    chevrolet chevelle malibu              18.0  ... 1970-01-01     USA\n",
              "1            buick skylark 320              15.0  ... 1970-01-01     USA\n",
              "2           plymouth satellite              18.0  ... 1970-01-01     USA\n",
              "3                amc rebel sst              16.0  ... 1970-01-01     USA\n",
              "4                  ford torino              17.0  ... 1970-01-01     USA\n",
              "..                         ...               ...  ...        ...     ...\n",
              "401            ford mustang gl              27.0  ... 1982-01-01     USA\n",
              "402                  vw pickup              44.0  ... 1982-01-01  Europe\n",
              "403              dodge rampage              32.0  ... 1982-01-01     USA\n",
              "404                ford ranger              28.0  ... 1982-01-01     USA\n",
              "405                 chevy s-10              31.0  ... 1982-01-01     USA\n",
              "\n",
              "[406 rows x 9 columns]"
            ]
          },
          "metadata": {
            "tags": []
          },
          "execution_count": 7
        }
      ]
    },
    {
      "cell_type": "code",
      "metadata": {
        "id": "dPdQG4Jsqc_x",
        "outputId": "c093d4c6-6a4e-4698-d305-d64d47e5e3b7",
        "colab": {
          "base_uri": "https://localhost:8080/",
          "height": 359
        }
      },
      "source": [
        "df.iloc[0:10,:]"
      ],
      "execution_count": null,
      "outputs": [
        {
          "output_type": "execute_result",
          "data": {
            "text/html": [
              "<div>\n",
              "<style scoped>\n",
              "    .dataframe tbody tr th:only-of-type {\n",
              "        vertical-align: middle;\n",
              "    }\n",
              "\n",
              "    .dataframe tbody tr th {\n",
              "        vertical-align: top;\n",
              "    }\n",
              "\n",
              "    .dataframe thead th {\n",
              "        text-align: right;\n",
              "    }\n",
              "</style>\n",
              "<table border=\"1\" class=\"dataframe\">\n",
              "  <thead>\n",
              "    <tr style=\"text-align: right;\">\n",
              "      <th></th>\n",
              "      <th>Name</th>\n",
              "      <th>Miles_per_Gallon</th>\n",
              "      <th>Cylinders</th>\n",
              "      <th>Displacement</th>\n",
              "      <th>Horsepower</th>\n",
              "      <th>Weight_in_lbs</th>\n",
              "      <th>Acceleration</th>\n",
              "      <th>Year</th>\n",
              "      <th>Origin</th>\n",
              "    </tr>\n",
              "  </thead>\n",
              "  <tbody>\n",
              "    <tr>\n",
              "      <th>0</th>\n",
              "      <td>chevrolet chevelle malibu</td>\n",
              "      <td>18.0</td>\n",
              "      <td>8</td>\n",
              "      <td>307.0</td>\n",
              "      <td>130.0</td>\n",
              "      <td>3504</td>\n",
              "      <td>12.0</td>\n",
              "      <td>1970-01-01</td>\n",
              "      <td>USA</td>\n",
              "    </tr>\n",
              "    <tr>\n",
              "      <th>1</th>\n",
              "      <td>buick skylark 320</td>\n",
              "      <td>15.0</td>\n",
              "      <td>8</td>\n",
              "      <td>350.0</td>\n",
              "      <td>165.0</td>\n",
              "      <td>3693</td>\n",
              "      <td>11.5</td>\n",
              "      <td>1970-01-01</td>\n",
              "      <td>USA</td>\n",
              "    </tr>\n",
              "    <tr>\n",
              "      <th>2</th>\n",
              "      <td>plymouth satellite</td>\n",
              "      <td>18.0</td>\n",
              "      <td>8</td>\n",
              "      <td>318.0</td>\n",
              "      <td>150.0</td>\n",
              "      <td>3436</td>\n",
              "      <td>11.0</td>\n",
              "      <td>1970-01-01</td>\n",
              "      <td>USA</td>\n",
              "    </tr>\n",
              "    <tr>\n",
              "      <th>3</th>\n",
              "      <td>amc rebel sst</td>\n",
              "      <td>16.0</td>\n",
              "      <td>8</td>\n",
              "      <td>304.0</td>\n",
              "      <td>150.0</td>\n",
              "      <td>3433</td>\n",
              "      <td>12.0</td>\n",
              "      <td>1970-01-01</td>\n",
              "      <td>USA</td>\n",
              "    </tr>\n",
              "    <tr>\n",
              "      <th>4</th>\n",
              "      <td>ford torino</td>\n",
              "      <td>17.0</td>\n",
              "      <td>8</td>\n",
              "      <td>302.0</td>\n",
              "      <td>140.0</td>\n",
              "      <td>3449</td>\n",
              "      <td>10.5</td>\n",
              "      <td>1970-01-01</td>\n",
              "      <td>USA</td>\n",
              "    </tr>\n",
              "    <tr>\n",
              "      <th>5</th>\n",
              "      <td>ford galaxie 500</td>\n",
              "      <td>15.0</td>\n",
              "      <td>8</td>\n",
              "      <td>429.0</td>\n",
              "      <td>198.0</td>\n",
              "      <td>4341</td>\n",
              "      <td>10.0</td>\n",
              "      <td>1970-01-01</td>\n",
              "      <td>USA</td>\n",
              "    </tr>\n",
              "    <tr>\n",
              "      <th>6</th>\n",
              "      <td>chevrolet impala</td>\n",
              "      <td>14.0</td>\n",
              "      <td>8</td>\n",
              "      <td>454.0</td>\n",
              "      <td>220.0</td>\n",
              "      <td>4354</td>\n",
              "      <td>9.0</td>\n",
              "      <td>1970-01-01</td>\n",
              "      <td>USA</td>\n",
              "    </tr>\n",
              "    <tr>\n",
              "      <th>7</th>\n",
              "      <td>plymouth fury iii</td>\n",
              "      <td>14.0</td>\n",
              "      <td>8</td>\n",
              "      <td>440.0</td>\n",
              "      <td>215.0</td>\n",
              "      <td>4312</td>\n",
              "      <td>8.5</td>\n",
              "      <td>1970-01-01</td>\n",
              "      <td>USA</td>\n",
              "    </tr>\n",
              "    <tr>\n",
              "      <th>8</th>\n",
              "      <td>pontiac catalina</td>\n",
              "      <td>14.0</td>\n",
              "      <td>8</td>\n",
              "      <td>455.0</td>\n",
              "      <td>225.0</td>\n",
              "      <td>4425</td>\n",
              "      <td>10.0</td>\n",
              "      <td>1970-01-01</td>\n",
              "      <td>USA</td>\n",
              "    </tr>\n",
              "    <tr>\n",
              "      <th>9</th>\n",
              "      <td>amc ambassador dpl</td>\n",
              "      <td>15.0</td>\n",
              "      <td>8</td>\n",
              "      <td>390.0</td>\n",
              "      <td>190.0</td>\n",
              "      <td>3850</td>\n",
              "      <td>8.5</td>\n",
              "      <td>1970-01-01</td>\n",
              "      <td>USA</td>\n",
              "    </tr>\n",
              "  </tbody>\n",
              "</table>\n",
              "</div>"
            ],
            "text/plain": [
              "                        Name  Miles_per_Gallon  ...       Year  Origin\n",
              "0  chevrolet chevelle malibu              18.0  ... 1970-01-01     USA\n",
              "1          buick skylark 320              15.0  ... 1970-01-01     USA\n",
              "2         plymouth satellite              18.0  ... 1970-01-01     USA\n",
              "3              amc rebel sst              16.0  ... 1970-01-01     USA\n",
              "4                ford torino              17.0  ... 1970-01-01     USA\n",
              "5           ford galaxie 500              15.0  ... 1970-01-01     USA\n",
              "6           chevrolet impala              14.0  ... 1970-01-01     USA\n",
              "7          plymouth fury iii              14.0  ... 1970-01-01     USA\n",
              "8           pontiac catalina              14.0  ... 1970-01-01     USA\n",
              "9         amc ambassador dpl              15.0  ... 1970-01-01     USA\n",
              "\n",
              "[10 rows x 9 columns]"
            ]
          },
          "metadata": {
            "tags": []
          },
          "execution_count": 8
        }
      ]
    },
    {
      "cell_type": "code",
      "metadata": {
        "id": "TiKG5fyiqfUc",
        "outputId": "7a8387ca-3da7-4b08-fcdc-f7ce9440521f",
        "colab": {
          "base_uri": "https://localhost:8080/",
          "height": 359
        }
      },
      "source": [
        "df.iloc[0:10,2:4]"
      ],
      "execution_count": null,
      "outputs": [
        {
          "output_type": "execute_result",
          "data": {
            "text/html": [
              "<div>\n",
              "<style scoped>\n",
              "    .dataframe tbody tr th:only-of-type {\n",
              "        vertical-align: middle;\n",
              "    }\n",
              "\n",
              "    .dataframe tbody tr th {\n",
              "        vertical-align: top;\n",
              "    }\n",
              "\n",
              "    .dataframe thead th {\n",
              "        text-align: right;\n",
              "    }\n",
              "</style>\n",
              "<table border=\"1\" class=\"dataframe\">\n",
              "  <thead>\n",
              "    <tr style=\"text-align: right;\">\n",
              "      <th></th>\n",
              "      <th>Cylinders</th>\n",
              "      <th>Displacement</th>\n",
              "    </tr>\n",
              "  </thead>\n",
              "  <tbody>\n",
              "    <tr>\n",
              "      <th>0</th>\n",
              "      <td>8</td>\n",
              "      <td>307.0</td>\n",
              "    </tr>\n",
              "    <tr>\n",
              "      <th>1</th>\n",
              "      <td>8</td>\n",
              "      <td>350.0</td>\n",
              "    </tr>\n",
              "    <tr>\n",
              "      <th>2</th>\n",
              "      <td>8</td>\n",
              "      <td>318.0</td>\n",
              "    </tr>\n",
              "    <tr>\n",
              "      <th>3</th>\n",
              "      <td>8</td>\n",
              "      <td>304.0</td>\n",
              "    </tr>\n",
              "    <tr>\n",
              "      <th>4</th>\n",
              "      <td>8</td>\n",
              "      <td>302.0</td>\n",
              "    </tr>\n",
              "    <tr>\n",
              "      <th>5</th>\n",
              "      <td>8</td>\n",
              "      <td>429.0</td>\n",
              "    </tr>\n",
              "    <tr>\n",
              "      <th>6</th>\n",
              "      <td>8</td>\n",
              "      <td>454.0</td>\n",
              "    </tr>\n",
              "    <tr>\n",
              "      <th>7</th>\n",
              "      <td>8</td>\n",
              "      <td>440.0</td>\n",
              "    </tr>\n",
              "    <tr>\n",
              "      <th>8</th>\n",
              "      <td>8</td>\n",
              "      <td>455.0</td>\n",
              "    </tr>\n",
              "    <tr>\n",
              "      <th>9</th>\n",
              "      <td>8</td>\n",
              "      <td>390.0</td>\n",
              "    </tr>\n",
              "  </tbody>\n",
              "</table>\n",
              "</div>"
            ],
            "text/plain": [
              "   Cylinders  Displacement\n",
              "0          8         307.0\n",
              "1          8         350.0\n",
              "2          8         318.0\n",
              "3          8         304.0\n",
              "4          8         302.0\n",
              "5          8         429.0\n",
              "6          8         454.0\n",
              "7          8         440.0\n",
              "8          8         455.0\n",
              "9          8         390.0"
            ]
          },
          "metadata": {
            "tags": []
          },
          "execution_count": 9
        }
      ]
    },
    {
      "cell_type": "code",
      "metadata": {
        "id": "G2KhfNJ7qrT8"
      },
      "source": [
        "df['one'] = 1"
      ],
      "execution_count": null,
      "outputs": []
    },
    {
      "cell_type": "code",
      "metadata": {
        "id": "X27mOpn5q1ut",
        "outputId": "144e4ed9-ee70-4734-af2f-44af53e25474",
        "colab": {
          "base_uri": "https://localhost:8080/",
          "height": 660
        }
      },
      "source": [
        "df"
      ],
      "execution_count": null,
      "outputs": [
        {
          "output_type": "execute_result",
          "data": {
            "text/html": [
              "<div>\n",
              "<style scoped>\n",
              "    .dataframe tbody tr th:only-of-type {\n",
              "        vertical-align: middle;\n",
              "    }\n",
              "\n",
              "    .dataframe tbody tr th {\n",
              "        vertical-align: top;\n",
              "    }\n",
              "\n",
              "    .dataframe thead th {\n",
              "        text-align: right;\n",
              "    }\n",
              "</style>\n",
              "<table border=\"1\" class=\"dataframe\">\n",
              "  <thead>\n",
              "    <tr style=\"text-align: right;\">\n",
              "      <th></th>\n",
              "      <th>Name</th>\n",
              "      <th>Miles_per_Gallon</th>\n",
              "      <th>Cylinders</th>\n",
              "      <th>Displacement</th>\n",
              "      <th>Horsepower</th>\n",
              "      <th>Weight_in_lbs</th>\n",
              "      <th>Acceleration</th>\n",
              "      <th>Year</th>\n",
              "      <th>Origin</th>\n",
              "      <th>one</th>\n",
              "    </tr>\n",
              "  </thead>\n",
              "  <tbody>\n",
              "    <tr>\n",
              "      <th>0</th>\n",
              "      <td>chevrolet chevelle malibu</td>\n",
              "      <td>18.0</td>\n",
              "      <td>8</td>\n",
              "      <td>307.0</td>\n",
              "      <td>130.0</td>\n",
              "      <td>3504</td>\n",
              "      <td>12.0</td>\n",
              "      <td>1970-01-01</td>\n",
              "      <td>USA</td>\n",
              "      <td>1</td>\n",
              "    </tr>\n",
              "    <tr>\n",
              "      <th>1</th>\n",
              "      <td>buick skylark 320</td>\n",
              "      <td>15.0</td>\n",
              "      <td>8</td>\n",
              "      <td>350.0</td>\n",
              "      <td>165.0</td>\n",
              "      <td>3693</td>\n",
              "      <td>11.5</td>\n",
              "      <td>1970-01-01</td>\n",
              "      <td>USA</td>\n",
              "      <td>1</td>\n",
              "    </tr>\n",
              "    <tr>\n",
              "      <th>2</th>\n",
              "      <td>plymouth satellite</td>\n",
              "      <td>18.0</td>\n",
              "      <td>8</td>\n",
              "      <td>318.0</td>\n",
              "      <td>150.0</td>\n",
              "      <td>3436</td>\n",
              "      <td>11.0</td>\n",
              "      <td>1970-01-01</td>\n",
              "      <td>USA</td>\n",
              "      <td>1</td>\n",
              "    </tr>\n",
              "    <tr>\n",
              "      <th>3</th>\n",
              "      <td>amc rebel sst</td>\n",
              "      <td>16.0</td>\n",
              "      <td>8</td>\n",
              "      <td>304.0</td>\n",
              "      <td>150.0</td>\n",
              "      <td>3433</td>\n",
              "      <td>12.0</td>\n",
              "      <td>1970-01-01</td>\n",
              "      <td>USA</td>\n",
              "      <td>1</td>\n",
              "    </tr>\n",
              "    <tr>\n",
              "      <th>4</th>\n",
              "      <td>ford torino</td>\n",
              "      <td>17.0</td>\n",
              "      <td>8</td>\n",
              "      <td>302.0</td>\n",
              "      <td>140.0</td>\n",
              "      <td>3449</td>\n",
              "      <td>10.5</td>\n",
              "      <td>1970-01-01</td>\n",
              "      <td>USA</td>\n",
              "      <td>1</td>\n",
              "    </tr>\n",
              "    <tr>\n",
              "      <th>...</th>\n",
              "      <td>...</td>\n",
              "      <td>...</td>\n",
              "      <td>...</td>\n",
              "      <td>...</td>\n",
              "      <td>...</td>\n",
              "      <td>...</td>\n",
              "      <td>...</td>\n",
              "      <td>...</td>\n",
              "      <td>...</td>\n",
              "      <td>...</td>\n",
              "    </tr>\n",
              "    <tr>\n",
              "      <th>401</th>\n",
              "      <td>ford mustang gl</td>\n",
              "      <td>27.0</td>\n",
              "      <td>4</td>\n",
              "      <td>140.0</td>\n",
              "      <td>86.0</td>\n",
              "      <td>2790</td>\n",
              "      <td>15.6</td>\n",
              "      <td>1982-01-01</td>\n",
              "      <td>USA</td>\n",
              "      <td>1</td>\n",
              "    </tr>\n",
              "    <tr>\n",
              "      <th>402</th>\n",
              "      <td>vw pickup</td>\n",
              "      <td>44.0</td>\n",
              "      <td>4</td>\n",
              "      <td>97.0</td>\n",
              "      <td>52.0</td>\n",
              "      <td>2130</td>\n",
              "      <td>24.6</td>\n",
              "      <td>1982-01-01</td>\n",
              "      <td>Europe</td>\n",
              "      <td>1</td>\n",
              "    </tr>\n",
              "    <tr>\n",
              "      <th>403</th>\n",
              "      <td>dodge rampage</td>\n",
              "      <td>32.0</td>\n",
              "      <td>4</td>\n",
              "      <td>135.0</td>\n",
              "      <td>84.0</td>\n",
              "      <td>2295</td>\n",
              "      <td>11.6</td>\n",
              "      <td>1982-01-01</td>\n",
              "      <td>USA</td>\n",
              "      <td>1</td>\n",
              "    </tr>\n",
              "    <tr>\n",
              "      <th>404</th>\n",
              "      <td>ford ranger</td>\n",
              "      <td>28.0</td>\n",
              "      <td>4</td>\n",
              "      <td>120.0</td>\n",
              "      <td>79.0</td>\n",
              "      <td>2625</td>\n",
              "      <td>18.6</td>\n",
              "      <td>1982-01-01</td>\n",
              "      <td>USA</td>\n",
              "      <td>1</td>\n",
              "    </tr>\n",
              "    <tr>\n",
              "      <th>405</th>\n",
              "      <td>chevy s-10</td>\n",
              "      <td>31.0</td>\n",
              "      <td>4</td>\n",
              "      <td>119.0</td>\n",
              "      <td>82.0</td>\n",
              "      <td>2720</td>\n",
              "      <td>19.4</td>\n",
              "      <td>1982-01-01</td>\n",
              "      <td>USA</td>\n",
              "      <td>1</td>\n",
              "    </tr>\n",
              "  </tbody>\n",
              "</table>\n",
              "<p>406 rows × 10 columns</p>\n",
              "</div>"
            ],
            "text/plain": [
              "                          Name  Miles_per_Gallon  ...  Origin  one\n",
              "0    chevrolet chevelle malibu              18.0  ...     USA    1\n",
              "1            buick skylark 320              15.0  ...     USA    1\n",
              "2           plymouth satellite              18.0  ...     USA    1\n",
              "3                amc rebel sst              16.0  ...     USA    1\n",
              "4                  ford torino              17.0  ...     USA    1\n",
              "..                         ...               ...  ...     ...  ...\n",
              "401            ford mustang gl              27.0  ...     USA    1\n",
              "402                  vw pickup              44.0  ...  Europe    1\n",
              "403              dodge rampage              32.0  ...     USA    1\n",
              "404                ford ranger              28.0  ...     USA    1\n",
              "405                 chevy s-10              31.0  ...     USA    1\n",
              "\n",
              "[406 rows x 10 columns]"
            ]
          },
          "metadata": {
            "tags": []
          },
          "execution_count": 11
        }
      ]
    },
    {
      "cell_type": "code",
      "metadata": {
        "id": "9BFUrZ6iq3EJ"
      },
      "source": [
        "df2 = pd.read_csv(\"https://raw.githubusercontent.com/khbae/econometrics/master/01_Data/test_data.txt\")"
      ],
      "execution_count": null,
      "outputs": []
    },
    {
      "cell_type": "code",
      "metadata": {
        "id": "xNusGEENtjeP",
        "outputId": "fc7a702b-b1eb-4ac8-a3d4-2be3ea3002c0",
        "colab": {
          "base_uri": "https://localhost:8080/",
          "height": 204
        }
      },
      "source": [
        "df2.head()"
      ],
      "execution_count": null,
      "outputs": [
        {
          "output_type": "execute_result",
          "data": {
            "text/html": [
              "<div>\n",
              "<style scoped>\n",
              "    .dataframe tbody tr th:only-of-type {\n",
              "        vertical-align: middle;\n",
              "    }\n",
              "\n",
              "    .dataframe tbody tr th {\n",
              "        vertical-align: top;\n",
              "    }\n",
              "\n",
              "    .dataframe thead th {\n",
              "        text-align: right;\n",
              "    }\n",
              "</style>\n",
              "<table border=\"1\" class=\"dataframe\">\n",
              "  <thead>\n",
              "    <tr style=\"text-align: right;\">\n",
              "      <th></th>\n",
              "      <th>firm</th>\n",
              "      <th>year</th>\n",
              "      <th>x</th>\n",
              "      <th>y</th>\n",
              "    </tr>\n",
              "  </thead>\n",
              "  <tbody>\n",
              "    <tr>\n",
              "      <th>0</th>\n",
              "      <td>1</td>\n",
              "      <td>1</td>\n",
              "      <td>-1.113973</td>\n",
              "      <td>2.251535</td>\n",
              "    </tr>\n",
              "    <tr>\n",
              "      <th>1</th>\n",
              "      <td>1</td>\n",
              "      <td>2</td>\n",
              "      <td>-0.080854</td>\n",
              "      <td>1.242346</td>\n",
              "    </tr>\n",
              "    <tr>\n",
              "      <th>2</th>\n",
              "      <td>1</td>\n",
              "      <td>3</td>\n",
              "      <td>-0.237607</td>\n",
              "      <td>-1.426376</td>\n",
              "    </tr>\n",
              "    <tr>\n",
              "      <th>3</th>\n",
              "      <td>1</td>\n",
              "      <td>4</td>\n",
              "      <td>-0.152486</td>\n",
              "      <td>-1.109394</td>\n",
              "    </tr>\n",
              "    <tr>\n",
              "      <th>4</th>\n",
              "      <td>1</td>\n",
              "      <td>5</td>\n",
              "      <td>-0.001426</td>\n",
              "      <td>0.914686</td>\n",
              "    </tr>\n",
              "  </tbody>\n",
              "</table>\n",
              "</div>"
            ],
            "text/plain": [
              "   firm  year         x         y\n",
              "0     1     1 -1.113973  2.251535\n",
              "1     1     2 -0.080854  1.242346\n",
              "2     1     3 -0.237607 -1.426376\n",
              "3     1     4 -0.152486 -1.109394\n",
              "4     1     5 -0.001426  0.914686"
            ]
          },
          "metadata": {
            "tags": []
          },
          "execution_count": 13
        }
      ]
    },
    {
      "cell_type": "code",
      "metadata": {
        "id": "Wd71_wHhtkd1",
        "outputId": "4cc44504-876c-452c-a8a5-8ccfdeb04047",
        "colab": {
          "base_uri": "https://localhost:8080/"
        }
      },
      "source": [
        "import os\n",
        "from google.colab import auth\n",
        "auth.authenticate_user()\n",
        "\n",
        "from google.colab import drive\n",
        "drive.mount('/content/gdrive')"
      ],
      "execution_count": null,
      "outputs": [
        {
          "output_type": "stream",
          "text": [
            "Drive already mounted at /content/gdrive; to attempt to forcibly remount, call drive.mount(\"/content/gdrive\", force_remount=True).\n"
          ],
          "name": "stdout"
        }
      ]
    },
    {
      "cell_type": "code",
      "metadata": {
        "id": "pN1qQyCvt7E5",
        "outputId": "76b8998f-ce6d-4691-a16a-eb066c739bfa",
        "colab": {
          "base_uri": "https://localhost:8080/",
          "height": 35
        }
      },
      "source": [
        "os.getcwd()"
      ],
      "execution_count": null,
      "outputs": [
        {
          "output_type": "execute_result",
          "data": {
            "application/vnd.google.colaboratory.intrinsic+json": {
              "type": "string"
            },
            "text/plain": [
              "'/content'"
            ]
          },
          "metadata": {
            "tags": []
          },
          "execution_count": 17
        }
      ]
    },
    {
      "cell_type": "code",
      "metadata": {
        "id": "p8P8avtEvL0_"
      },
      "source": [
        "os.chdir('/content/gdrive/My Drive/Colab Notebooks/data')"
      ],
      "execution_count": null,
      "outputs": []
    },
    {
      "cell_type": "code",
      "metadata": {
        "id": "uv8eOdkhwQvZ",
        "outputId": "4822dfe9-07bf-49cd-86e1-2c8dd882acb0",
        "colab": {
          "base_uri": "https://localhost:8080/",
          "height": 374
        }
      },
      "source": [
        "df = pd.read_csv('manning.csv')"
      ],
      "execution_count": null,
      "outputs": [
        {
          "output_type": "error",
          "ename": "FileNotFoundError",
          "evalue": "ignored",
          "traceback": [
            "\u001b[0;31m---------------------------------------------------------------------------\u001b[0m",
            "\u001b[0;31mFileNotFoundError\u001b[0m                         Traceback (most recent call last)",
            "\u001b[0;32m<ipython-input-19-a8a91523f30a>\u001b[0m in \u001b[0;36m<module>\u001b[0;34m()\u001b[0m\n\u001b[0;32m----> 1\u001b[0;31m \u001b[0mdf\u001b[0m \u001b[0;34m=\u001b[0m \u001b[0mpd\u001b[0m\u001b[0;34m.\u001b[0m\u001b[0mread_csv\u001b[0m\u001b[0;34m(\u001b[0m\u001b[0;34m'manning.csv'\u001b[0m\u001b[0;34m)\u001b[0m\u001b[0;34m\u001b[0m\u001b[0;34m\u001b[0m\u001b[0m\n\u001b[0m",
            "\u001b[0;32m/usr/local/lib/python3.6/dist-packages/pandas/io/parsers.py\u001b[0m in \u001b[0;36mread_csv\u001b[0;34m(filepath_or_buffer, sep, delimiter, header, names, index_col, usecols, squeeze, prefix, mangle_dupe_cols, dtype, engine, converters, true_values, false_values, skipinitialspace, skiprows, skipfooter, nrows, na_values, keep_default_na, na_filter, verbose, skip_blank_lines, parse_dates, infer_datetime_format, keep_date_col, date_parser, dayfirst, cache_dates, iterator, chunksize, compression, thousands, decimal, lineterminator, quotechar, quoting, doublequote, escapechar, comment, encoding, dialect, error_bad_lines, warn_bad_lines, delim_whitespace, low_memory, memory_map, float_precision)\u001b[0m\n\u001b[1;32m    686\u001b[0m     )\n\u001b[1;32m    687\u001b[0m \u001b[0;34m\u001b[0m\u001b[0m\n\u001b[0;32m--> 688\u001b[0;31m     \u001b[0;32mreturn\u001b[0m \u001b[0m_read\u001b[0m\u001b[0;34m(\u001b[0m\u001b[0mfilepath_or_buffer\u001b[0m\u001b[0;34m,\u001b[0m \u001b[0mkwds\u001b[0m\u001b[0;34m)\u001b[0m\u001b[0;34m\u001b[0m\u001b[0;34m\u001b[0m\u001b[0m\n\u001b[0m\u001b[1;32m    689\u001b[0m \u001b[0;34m\u001b[0m\u001b[0m\n\u001b[1;32m    690\u001b[0m \u001b[0;34m\u001b[0m\u001b[0m\n",
            "\u001b[0;32m/usr/local/lib/python3.6/dist-packages/pandas/io/parsers.py\u001b[0m in \u001b[0;36m_read\u001b[0;34m(filepath_or_buffer, kwds)\u001b[0m\n\u001b[1;32m    452\u001b[0m \u001b[0;34m\u001b[0m\u001b[0m\n\u001b[1;32m    453\u001b[0m     \u001b[0;31m# Create the parser.\u001b[0m\u001b[0;34m\u001b[0m\u001b[0;34m\u001b[0m\u001b[0;34m\u001b[0m\u001b[0m\n\u001b[0;32m--> 454\u001b[0;31m     \u001b[0mparser\u001b[0m \u001b[0;34m=\u001b[0m \u001b[0mTextFileReader\u001b[0m\u001b[0;34m(\u001b[0m\u001b[0mfp_or_buf\u001b[0m\u001b[0;34m,\u001b[0m \u001b[0;34m**\u001b[0m\u001b[0mkwds\u001b[0m\u001b[0;34m)\u001b[0m\u001b[0;34m\u001b[0m\u001b[0;34m\u001b[0m\u001b[0m\n\u001b[0m\u001b[1;32m    455\u001b[0m \u001b[0;34m\u001b[0m\u001b[0m\n\u001b[1;32m    456\u001b[0m     \u001b[0;32mif\u001b[0m \u001b[0mchunksize\u001b[0m \u001b[0;32mor\u001b[0m \u001b[0miterator\u001b[0m\u001b[0;34m:\u001b[0m\u001b[0;34m\u001b[0m\u001b[0;34m\u001b[0m\u001b[0m\n",
            "\u001b[0;32m/usr/local/lib/python3.6/dist-packages/pandas/io/parsers.py\u001b[0m in \u001b[0;36m__init__\u001b[0;34m(self, f, engine, **kwds)\u001b[0m\n\u001b[1;32m    946\u001b[0m             \u001b[0mself\u001b[0m\u001b[0;34m.\u001b[0m\u001b[0moptions\u001b[0m\u001b[0;34m[\u001b[0m\u001b[0;34m\"has_index_names\"\u001b[0m\u001b[0;34m]\u001b[0m \u001b[0;34m=\u001b[0m \u001b[0mkwds\u001b[0m\u001b[0;34m[\u001b[0m\u001b[0;34m\"has_index_names\"\u001b[0m\u001b[0;34m]\u001b[0m\u001b[0;34m\u001b[0m\u001b[0;34m\u001b[0m\u001b[0m\n\u001b[1;32m    947\u001b[0m \u001b[0;34m\u001b[0m\u001b[0m\n\u001b[0;32m--> 948\u001b[0;31m         \u001b[0mself\u001b[0m\u001b[0;34m.\u001b[0m\u001b[0m_make_engine\u001b[0m\u001b[0;34m(\u001b[0m\u001b[0mself\u001b[0m\u001b[0;34m.\u001b[0m\u001b[0mengine\u001b[0m\u001b[0;34m)\u001b[0m\u001b[0;34m\u001b[0m\u001b[0;34m\u001b[0m\u001b[0m\n\u001b[0m\u001b[1;32m    949\u001b[0m \u001b[0;34m\u001b[0m\u001b[0m\n\u001b[1;32m    950\u001b[0m     \u001b[0;32mdef\u001b[0m \u001b[0mclose\u001b[0m\u001b[0;34m(\u001b[0m\u001b[0mself\u001b[0m\u001b[0;34m)\u001b[0m\u001b[0;34m:\u001b[0m\u001b[0;34m\u001b[0m\u001b[0;34m\u001b[0m\u001b[0m\n",
            "\u001b[0;32m/usr/local/lib/python3.6/dist-packages/pandas/io/parsers.py\u001b[0m in \u001b[0;36m_make_engine\u001b[0;34m(self, engine)\u001b[0m\n\u001b[1;32m   1178\u001b[0m     \u001b[0;32mdef\u001b[0m \u001b[0m_make_engine\u001b[0m\u001b[0;34m(\u001b[0m\u001b[0mself\u001b[0m\u001b[0;34m,\u001b[0m \u001b[0mengine\u001b[0m\u001b[0;34m=\u001b[0m\u001b[0;34m\"c\"\u001b[0m\u001b[0;34m)\u001b[0m\u001b[0;34m:\u001b[0m\u001b[0;34m\u001b[0m\u001b[0;34m\u001b[0m\u001b[0m\n\u001b[1;32m   1179\u001b[0m         \u001b[0;32mif\u001b[0m \u001b[0mengine\u001b[0m \u001b[0;34m==\u001b[0m \u001b[0;34m\"c\"\u001b[0m\u001b[0;34m:\u001b[0m\u001b[0;34m\u001b[0m\u001b[0;34m\u001b[0m\u001b[0m\n\u001b[0;32m-> 1180\u001b[0;31m             \u001b[0mself\u001b[0m\u001b[0;34m.\u001b[0m\u001b[0m_engine\u001b[0m \u001b[0;34m=\u001b[0m \u001b[0mCParserWrapper\u001b[0m\u001b[0;34m(\u001b[0m\u001b[0mself\u001b[0m\u001b[0;34m.\u001b[0m\u001b[0mf\u001b[0m\u001b[0;34m,\u001b[0m \u001b[0;34m**\u001b[0m\u001b[0mself\u001b[0m\u001b[0;34m.\u001b[0m\u001b[0moptions\u001b[0m\u001b[0;34m)\u001b[0m\u001b[0;34m\u001b[0m\u001b[0;34m\u001b[0m\u001b[0m\n\u001b[0m\u001b[1;32m   1181\u001b[0m         \u001b[0;32melse\u001b[0m\u001b[0;34m:\u001b[0m\u001b[0;34m\u001b[0m\u001b[0;34m\u001b[0m\u001b[0m\n\u001b[1;32m   1182\u001b[0m             \u001b[0;32mif\u001b[0m \u001b[0mengine\u001b[0m \u001b[0;34m==\u001b[0m \u001b[0;34m\"python\"\u001b[0m\u001b[0;34m:\u001b[0m\u001b[0;34m\u001b[0m\u001b[0;34m\u001b[0m\u001b[0m\n",
            "\u001b[0;32m/usr/local/lib/python3.6/dist-packages/pandas/io/parsers.py\u001b[0m in \u001b[0;36m__init__\u001b[0;34m(self, src, **kwds)\u001b[0m\n\u001b[1;32m   2008\u001b[0m         \u001b[0mkwds\u001b[0m\u001b[0;34m[\u001b[0m\u001b[0;34m\"usecols\"\u001b[0m\u001b[0;34m]\u001b[0m \u001b[0;34m=\u001b[0m \u001b[0mself\u001b[0m\u001b[0;34m.\u001b[0m\u001b[0musecols\u001b[0m\u001b[0;34m\u001b[0m\u001b[0;34m\u001b[0m\u001b[0m\n\u001b[1;32m   2009\u001b[0m \u001b[0;34m\u001b[0m\u001b[0m\n\u001b[0;32m-> 2010\u001b[0;31m         \u001b[0mself\u001b[0m\u001b[0;34m.\u001b[0m\u001b[0m_reader\u001b[0m \u001b[0;34m=\u001b[0m \u001b[0mparsers\u001b[0m\u001b[0;34m.\u001b[0m\u001b[0mTextReader\u001b[0m\u001b[0;34m(\u001b[0m\u001b[0msrc\u001b[0m\u001b[0;34m,\u001b[0m \u001b[0;34m**\u001b[0m\u001b[0mkwds\u001b[0m\u001b[0;34m)\u001b[0m\u001b[0;34m\u001b[0m\u001b[0;34m\u001b[0m\u001b[0m\n\u001b[0m\u001b[1;32m   2011\u001b[0m         \u001b[0mself\u001b[0m\u001b[0;34m.\u001b[0m\u001b[0munnamed_cols\u001b[0m \u001b[0;34m=\u001b[0m \u001b[0mself\u001b[0m\u001b[0;34m.\u001b[0m\u001b[0m_reader\u001b[0m\u001b[0;34m.\u001b[0m\u001b[0munnamed_cols\u001b[0m\u001b[0;34m\u001b[0m\u001b[0;34m\u001b[0m\u001b[0m\n\u001b[1;32m   2012\u001b[0m \u001b[0;34m\u001b[0m\u001b[0m\n",
            "\u001b[0;32mpandas/_libs/parsers.pyx\u001b[0m in \u001b[0;36mpandas._libs.parsers.TextReader.__cinit__\u001b[0;34m()\u001b[0m\n",
            "\u001b[0;32mpandas/_libs/parsers.pyx\u001b[0m in \u001b[0;36mpandas._libs.parsers.TextReader._setup_parser_source\u001b[0;34m()\u001b[0m\n",
            "\u001b[0;31mFileNotFoundError\u001b[0m: [Errno 2] No such file or directory: 'manning.csv'"
          ]
        }
      ]
    },
    {
      "cell_type": "code",
      "metadata": {
        "id": "HzgBv-TuwZwE",
        "outputId": "1c75f1fb-6b4b-4b5d-d06a-333d1ba06864",
        "colab": {
          "base_uri": "https://localhost:8080/"
        }
      },
      "source": [
        "!ls"
      ],
      "execution_count": null,
      "outputs": [
        {
          "output_type": "stream",
          "text": [
            "manning.csv\n"
          ],
          "name": "stdout"
        }
      ]
    },
    {
      "cell_type": "code",
      "metadata": {
        "id": "ByXsIZdcwble"
      },
      "source": [
        "df2 = pd.read_csv('manning.csv')"
      ],
      "execution_count": null,
      "outputs": []
    },
    {
      "cell_type": "code",
      "metadata": {
        "id": "e0MD5FY_w7Ug",
        "outputId": "d4907aad-a788-41a3-c813-4d74f2a37312",
        "colab": {
          "base_uri": "https://localhost:8080/",
          "height": 204
        }
      },
      "source": [
        "df.head()"
      ],
      "execution_count": null,
      "outputs": [
        {
          "output_type": "execute_result",
          "data": {
            "text/html": [
              "<div>\n",
              "<style scoped>\n",
              "    .dataframe tbody tr th:only-of-type {\n",
              "        vertical-align: middle;\n",
              "    }\n",
              "\n",
              "    .dataframe tbody tr th {\n",
              "        vertical-align: top;\n",
              "    }\n",
              "\n",
              "    .dataframe thead th {\n",
              "        text-align: right;\n",
              "    }\n",
              "</style>\n",
              "<table border=\"1\" class=\"dataframe\">\n",
              "  <thead>\n",
              "    <tr style=\"text-align: right;\">\n",
              "      <th></th>\n",
              "      <th>ds</th>\n",
              "      <th>y</th>\n",
              "    </tr>\n",
              "  </thead>\n",
              "  <tbody>\n",
              "    <tr>\n",
              "      <th>0</th>\n",
              "      <td>12/10/2007</td>\n",
              "      <td>14629</td>\n",
              "    </tr>\n",
              "    <tr>\n",
              "      <th>1</th>\n",
              "      <td>12/11/2007</td>\n",
              "      <td>5012</td>\n",
              "    </tr>\n",
              "    <tr>\n",
              "      <th>2</th>\n",
              "      <td>12/12/2007</td>\n",
              "      <td>3582</td>\n",
              "    </tr>\n",
              "    <tr>\n",
              "      <th>3</th>\n",
              "      <td>12/13/2007</td>\n",
              "      <td>3205</td>\n",
              "    </tr>\n",
              "    <tr>\n",
              "      <th>4</th>\n",
              "      <td>12/14/2007</td>\n",
              "      <td>2680</td>\n",
              "    </tr>\n",
              "  </tbody>\n",
              "</table>\n",
              "</div>"
            ],
            "text/plain": [
              "           ds      y\n",
              "0  12/10/2007  14629\n",
              "1  12/11/2007   5012\n",
              "2  12/12/2007   3582\n",
              "3  12/13/2007   3205\n",
              "4  12/14/2007   2680"
            ]
          },
          "metadata": {
            "tags": []
          },
          "execution_count": 26
        }
      ]
    },
    {
      "cell_type": "code",
      "metadata": {
        "id": "R_PRukfTw8Sl"
      },
      "source": [
        "df2['xx'] = df2['y'] ** 2"
      ],
      "execution_count": null,
      "outputs": []
    },
    {
      "cell_type": "code",
      "metadata": {
        "id": "8jVhULYhyWHk",
        "outputId": "4974fd06-4232-4c43-a198-cda3d3910524",
        "colab": {
          "base_uri": "https://localhost:8080/",
          "height": 204
        }
      },
      "source": [
        "df2.head()"
      ],
      "execution_count": null,
      "outputs": [
        {
          "output_type": "execute_result",
          "data": {
            "text/html": [
              "<div>\n",
              "<style scoped>\n",
              "    .dataframe tbody tr th:only-of-type {\n",
              "        vertical-align: middle;\n",
              "    }\n",
              "\n",
              "    .dataframe tbody tr th {\n",
              "        vertical-align: top;\n",
              "    }\n",
              "\n",
              "    .dataframe thead th {\n",
              "        text-align: right;\n",
              "    }\n",
              "</style>\n",
              "<table border=\"1\" class=\"dataframe\">\n",
              "  <thead>\n",
              "    <tr style=\"text-align: right;\">\n",
              "      <th></th>\n",
              "      <th>ds</th>\n",
              "      <th>y</th>\n",
              "      <th>xx</th>\n",
              "    </tr>\n",
              "  </thead>\n",
              "  <tbody>\n",
              "    <tr>\n",
              "      <th>0</th>\n",
              "      <td>12/10/2007</td>\n",
              "      <td>14629</td>\n",
              "      <td>214007641</td>\n",
              "    </tr>\n",
              "    <tr>\n",
              "      <th>1</th>\n",
              "      <td>12/11/2007</td>\n",
              "      <td>5012</td>\n",
              "      <td>25120144</td>\n",
              "    </tr>\n",
              "    <tr>\n",
              "      <th>2</th>\n",
              "      <td>12/12/2007</td>\n",
              "      <td>3582</td>\n",
              "      <td>12830724</td>\n",
              "    </tr>\n",
              "    <tr>\n",
              "      <th>3</th>\n",
              "      <td>12/13/2007</td>\n",
              "      <td>3205</td>\n",
              "      <td>10272025</td>\n",
              "    </tr>\n",
              "    <tr>\n",
              "      <th>4</th>\n",
              "      <td>12/14/2007</td>\n",
              "      <td>2680</td>\n",
              "      <td>7182400</td>\n",
              "    </tr>\n",
              "  </tbody>\n",
              "</table>\n",
              "</div>"
            ],
            "text/plain": [
              "           ds      y         xx\n",
              "0  12/10/2007  14629  214007641\n",
              "1  12/11/2007   5012   25120144\n",
              "2  12/12/2007   3582   12830724\n",
              "3  12/13/2007   3205   10272025\n",
              "4  12/14/2007   2680    7182400"
            ]
          },
          "metadata": {
            "tags": []
          },
          "execution_count": 28
        }
      ]
    },
    {
      "cell_type": "code",
      "metadata": {
        "id": "0XddwnTNyXRl"
      },
      "source": [
        "df2.to_csv('manning_fixed.csv')"
      ],
      "execution_count": null,
      "outputs": []
    },
    {
      "cell_type": "code",
      "metadata": {
        "id": "0v8NoXPuyf8t"
      },
      "source": [
        "df2.describe().to_csv('summary_stats.csv')"
      ],
      "execution_count": null,
      "outputs": []
    },
    {
      "cell_type": "code",
      "metadata": {
        "id": "il45rnSmysoc"
      },
      "source": [
        "df2.corr().to_csv('correlation.csv')"
      ],
      "execution_count": null,
      "outputs": []
    },
    {
      "cell_type": "code",
      "metadata": {
        "id": "m_E4_5Jly4Eu",
        "outputId": "32ca5e8c-8515-456d-befe-026560c8fef6",
        "colab": {
          "base_uri": "https://localhost:8080/",
          "height": 297
        }
      },
      "source": [
        "import numpy as np\n",
        "import matplotlib.pyplot as plt\n",
        "\n",
        "x1 = np.linspace(0.0, 5.0)\n",
        "x2 = np.linspace(0.0, 2.0)\n",
        "\n",
        "y1 = np.cos(2 * np.pi * x1) * np.exp(-x1)\n",
        "y2 = np.cos(2 * np.pi * x2)\n",
        "\n",
        "plt.subplot(2, 1, 1)                # nrows=2, ncols=1, index=1\n",
        "plt.plot(x1, y1, 'o-')\n",
        "plt.title('1st Graph')\n",
        "plt.ylabel('Damped oscillation')\n",
        "\n",
        "plt.subplot(2, 1, 2)                # nrows=2, ncols=1, index=2\n",
        "plt.plot(x2, y2, '.-')\n",
        "plt.title('2nd Graph')\n",
        "plt.xlabel('time (s)')\n",
        "plt.ylabel('Undamped')\n",
        "\n",
        "plt.tight_layout()\n",
        "# plt.show()\n",
        "plt.savefig('savefig_default.png')"
      ],
      "execution_count": 35,
      "outputs": [
        {
          "output_type": "display_data",
          "data": {
            "image/png": "[encoded data removed]",
            "text/plain": [
              "<Figure size 432x288 with 2 Axes>"
            ]
          },
          "metadata": {
            "tags": [],
            "needs_background": "light"
          }
        }
      ]
    },
    {
      "cell_type": "code",
      "metadata": {
        "id": "qszQLdsD794v"
      },
      "source": [
        ""
      ],
      "execution_count": null,
      "outputs": []
    }
  ]
}